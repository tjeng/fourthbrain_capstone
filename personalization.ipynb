{
 "cells": [
  {
   "cell_type": "code",
   "execution_count": 1,
   "metadata": {
    "colab": {
     "base_uri": "https://localhost:8080/"
    },
    "id": "d3b54394",
    "outputId": "f7f06c45-ab19-4977-aaf3-a58d07ff91e7"
   },
   "outputs": [
    {
     "name": "stdout",
     "output_type": "stream",
     "text": [
      "Collecting lightfm\n",
      "  Using cached lightfm-1.16-cp36-cp36m-linux_x86_64.whl\n",
      "Requirement already satisfied: numpy in /home/ec2-user/anaconda3/envs/tensorflow2_p36/lib/python3.6/site-packages (from lightfm) (1.18.5)\n",
      "Requirement already satisfied: scipy>=0.17.0 in /home/ec2-user/anaconda3/envs/tensorflow2_p36/lib/python3.6/site-packages (from lightfm) (1.5.3)\n",
      "Requirement already satisfied: scikit-learn in /home/ec2-user/anaconda3/envs/tensorflow2_p36/lib/python3.6/site-packages (from lightfm) (0.24.1)\n",
      "Requirement already satisfied: requests in /home/ec2-user/anaconda3/envs/tensorflow2_p36/lib/python3.6/site-packages (from lightfm) (2.25.1)\n",
      "Requirement already satisfied: idna<3,>=2.5 in /home/ec2-user/anaconda3/envs/tensorflow2_p36/lib/python3.6/site-packages (from requests->lightfm) (2.10)\n",
      "Requirement already satisfied: urllib3<1.27,>=1.21.1 in /home/ec2-user/anaconda3/envs/tensorflow2_p36/lib/python3.6/site-packages (from requests->lightfm) (1.26.5)\n",
      "Requirement already satisfied: certifi>=2017.4.17 in /home/ec2-user/anaconda3/envs/tensorflow2_p36/lib/python3.6/site-packages (from requests->lightfm) (2021.5.30)\n",
      "Requirement already satisfied: chardet<5,>=3.0.2 in /home/ec2-user/anaconda3/envs/tensorflow2_p36/lib/python3.6/site-packages (from requests->lightfm) (3.0.4)\n",
      "Requirement already satisfied: threadpoolctl>=2.0.0 in /home/ec2-user/anaconda3/envs/tensorflow2_p36/lib/python3.6/site-packages (from scikit-learn->lightfm) (2.1.0)\n",
      "Requirement already satisfied: joblib>=0.11 in /home/ec2-user/anaconda3/envs/tensorflow2_p36/lib/python3.6/site-packages (from scikit-learn->lightfm) (1.0.1)\n",
      "Installing collected packages: lightfm\n",
      "Successfully installed lightfm-1.16\n",
      "\u001b[33mWARNING: You are using pip version 21.1.2; however, version 21.1.3 is available.\n",
      "You should consider upgrading via the '/home/ec2-user/anaconda3/envs/tensorflow2_p36/bin/python -m pip install --upgrade pip' command.\u001b[0m\n"
     ]
    }
   ],
   "source": [
    "!pip install lightfm"
   ]
  },
  {
   "cell_type": "code",
   "execution_count": 2,
   "metadata": {
    "id": "93edcb91"
   },
   "outputs": [],
   "source": [
    "import pandas as pd\n",
    "import pickle\n",
    "from datetime import datetime\n",
    "import matplotlib.pyplot as plt\n",
    "import json\n",
    "from pandas.io.json import json_normalize\n",
    "import numpy as np\n",
    "from scipy import sparse\n",
    "from scipy.sparse import csr_matrix, coo_matrix\n",
    "from lightfm import LightFM\n",
    "from lightfm.data import Dataset\n",
    "from lightfm.cross_validation import random_train_test_split\n",
    "from lightfm.evaluation import auc_score, precision_at_k, recall_at_k"
   ]
  },
  {
   "cell_type": "markdown",
   "metadata": {
    "id": "685a21db"
   },
   "source": [
    "## Processing data"
   ]
  },
  {
   "cell_type": "code",
   "execution_count": 3,
   "metadata": {
    "id": "3e09a595",
    "scrolled": true
   },
   "outputs": [],
   "source": [
    "data = [json.loads(line) for line in open('raw_data.json', 'r')]"
   ]
  },
  {
   "cell_type": "code",
   "execution_count": 4,
   "metadata": {
    "id": "de7421c2"
   },
   "outputs": [],
   "source": [
    "df = pd.json_normalize(data)"
   ]
  },
  {
   "cell_type": "code",
   "execution_count": 29,
   "metadata": {
    "id": "af46bd00",
    "outputId": "7890bf56-bdcc-438f-8bde-4acfc52aaeb7"
   },
   "outputs": [
    {
     "data": {
      "text/plain": [
       "44876"
      ]
     },
     "execution_count": 29,
     "metadata": {},
     "output_type": "execute_result"
    }
   ],
   "source": [
    "df.customerVisitorId.nunique()"
   ]
  },
  {
   "cell_type": "code",
   "execution_count": null,
   "metadata": {
    "id": "ce5ff415",
    "outputId": "75e278a7-4e68-452c-91f0-d506bef36369"
   },
   "outputs": [
    {
     "data": {
      "text/plain": [
       "Index(['customerId', 'customerArea', 'customerVisitorId', 'customerLoginId',\n",
       "       'customerSessionId', 'sessionStartTime', 'sessionEndTime',\n",
       "       'customerSessionNumber', 'hits', 'totals.timeOnSite', 'totals.events',\n",
       "       'totals.newSession', 'totals.bounce', 'totals.totalSearches',\n",
       "       'totals.totalNavigations', 'totals.totalRefinements',\n",
       "       'totals.totalViewProducts', 'totals.totalViewProductRevenue',\n",
       "       'totals.totalNullSearches', 'totals.uniqueViewProducts',\n",
       "       'trafficSource.gbiFlag', 'trafficSource.deviceCategory',\n",
       "       'trafficSource.device', 'trafficSource.browser', 'trafficSource.os',\n",
       "       'trafficSource.userAgent', 'trafficSource.language',\n",
       "       'trafficSource.page', 'trafficSource.city', 'trafficSource.region',\n",
       "       'trafficSource.country', 'trafficSource.campaign',\n",
       "       'trafficSource.source', 'trafficSource.medium', 'trafficSource.content',\n",
       "       'totals.totalAddToCarts', 'totals.totalAddToCartQty',\n",
       "       'totals.totalAddToCartRevenue', 'totals.uniqueAddToCarts',\n",
       "       'trafficSource.term', 'totals.uniqueSearches', 'totals.queriesSearched',\n",
       "       'totals.uniqueRefinements', 'totals.uniqueNavigations',\n",
       "       'attributedTotals.totalViewProducts',\n",
       "       'attributedTotals.totalViewProductRevenue',\n",
       "       'attributedTotals.uniqueSearches', 'attributedTotals.queriesAttributed',\n",
       "       'attributedTotals.uniqueViewProducts',\n",
       "       'attributedTotals.totalAddToCarts',\n",
       "       'attributedTotals.totalAddToCartQty',\n",
       "       'attributedTotals.totalAddToCartRevenue',\n",
       "       'attributedTotals.uniqueAddToCarts', 'totals.totalOrders',\n",
       "       'totals.totalOrderQty', 'totals.totalOrderRevenue',\n",
       "       'totals.uniqueOrders', 'attributedTotals.totalOrders',\n",
       "       'attributedTotals.totalOrderQty', 'attributedTotals.totalOrderRevenue',\n",
       "       'attributedTotals.uniqueOrders'],\n",
       "      dtype='object')"
      ]
     },
     "execution_count": 304,
     "metadata": {
      "tags": []
     },
     "output_type": "execute_result"
    }
   ],
   "source": [
    "df.columns"
   ]
  },
  {
   "cell_type": "code",
   "execution_count": 5,
   "metadata": {},
   "outputs": [],
   "source": [
    "cols = ['customerVisitorId', 'customerSessionId','sessionStartTime', 'sessionEndTime', 'customerSessionNumber']"
   ]
  },
  {
   "cell_type": "code",
   "execution_count": 6,
   "metadata": {
    "id": "aac0f36d"
   },
   "outputs": [],
   "source": [
    "hits = pd.json_normalize(data, record_path=['hits', 'product'], meta=cols)"
   ]
  },
  {
   "cell_type": "code",
   "execution_count": 8,
   "metadata": {
    "id": "4e2b7356",
    "outputId": "e572dd8e-3a98-4054-993a-de3cb8185cad"
   },
   "outputs": [
    {
     "data": {
      "text/html": [
       "<div>\n",
       "<style scoped>\n",
       "    .dataframe tbody tr th:only-of-type {\n",
       "        vertical-align: middle;\n",
       "    }\n",
       "\n",
       "    .dataframe tbody tr th {\n",
       "        vertical-align: top;\n",
       "    }\n",
       "\n",
       "    .dataframe thead th {\n",
       "        text-align: right;\n",
       "    }\n",
       "</style>\n",
       "<table border=\"1\" class=\"dataframe\">\n",
       "  <thead>\n",
       "    <tr style=\"text-align: right;\">\n",
       "      <th></th>\n",
       "      <th>sku</th>\n",
       "      <th>ID</th>\n",
       "      <th>name</th>\n",
       "      <th>price</th>\n",
       "      <th>collection</th>\n",
       "      <th>attributedSearches</th>\n",
       "      <th>quantity</th>\n",
       "      <th>listLocation</th>\n",
       "      <th>listPosition</th>\n",
       "      <th>customerVisitorId</th>\n",
       "      <th>customerSessionId</th>\n",
       "      <th>sessionStartTime</th>\n",
       "      <th>sessionEndTime</th>\n",
       "      <th>customerSessionNumber</th>\n",
       "    </tr>\n",
       "  </thead>\n",
       "  <tbody>\n",
       "    <tr>\n",
       "      <th>1474200</th>\n",
       "      <td>SWA051</td>\n",
       "      <td>SWA051</td>\n",
       "      <td>dr. stephen langer's ultimate 16 strain probio...</td>\n",
       "      <td>14.79</td>\n",
       "      <td>Swanson Probiotics</td>\n",
       "      <td>[]</td>\n",
       "      <td>NaN</td>\n",
       "      <td>NaN</td>\n",
       "      <td>NaN</td>\n",
       "      <td>cki8pfl1y000139ebdeezn6pn</td>\n",
       "      <td>cki8pfl1y000139ebdeezn6pn1606894616</td>\n",
       "      <td>2020-12-02 07:36:56.522423 UTC</td>\n",
       "      <td>2020-12-02 07:40:45.201722 UTC</td>\n",
       "      <td>1</td>\n",
       "    </tr>\n",
       "    <tr>\n",
       "      <th>1474201</th>\n",
       "      <td>SWA051</td>\n",
       "      <td>SWA051</td>\n",
       "      <td>dr. stephen langer's ultimate 16 strain probio...</td>\n",
       "      <td>14.79</td>\n",
       "      <td>default</td>\n",
       "      <td>[]</td>\n",
       "      <td>NaN</td>\n",
       "      <td>NaN</td>\n",
       "      <td>NaN</td>\n",
       "      <td>cki8pfl1y000139ebdeezn6pn</td>\n",
       "      <td>cki8pfl1y000139ebdeezn6pn1606894616</td>\n",
       "      <td>2020-12-02 07:36:56.522423 UTC</td>\n",
       "      <td>2020-12-02 07:40:45.201722 UTC</td>\n",
       "      <td>1</td>\n",
       "    </tr>\n",
       "    <tr>\n",
       "      <th>1474202</th>\n",
       "      <td>SWA051</td>\n",
       "      <td>SWA051</td>\n",
       "      <td>dr. stephen langer's ultimate 16 strain probio...</td>\n",
       "      <td>14.79</td>\n",
       "      <td>default</td>\n",
       "      <td>[]</td>\n",
       "      <td>3</td>\n",
       "      <td>NaN</td>\n",
       "      <td>NaN</td>\n",
       "      <td>cki8pfl1y000139ebdeezn6pn</td>\n",
       "      <td>cki8pfl1y000139ebdeezn6pn1606894616</td>\n",
       "      <td>2020-12-02 07:36:56.522423 UTC</td>\n",
       "      <td>2020-12-02 07:40:45.201722 UTC</td>\n",
       "      <td>1</td>\n",
       "    </tr>\n",
       "    <tr>\n",
       "      <th>1474203</th>\n",
       "      <td>SWA051</td>\n",
       "      <td>SWA051</td>\n",
       "      <td>3.2 billion cfu 60 veg drcaps</td>\n",
       "      <td>14.79</td>\n",
       "      <td>Swanson Probiotics</td>\n",
       "      <td>[]</td>\n",
       "      <td>3</td>\n",
       "      <td>NaN</td>\n",
       "      <td>NaN</td>\n",
       "      <td>cki8pfl1y000139ebdeezn6pn</td>\n",
       "      <td>cki8pfl1y000139ebdeezn6pn1606894616</td>\n",
       "      <td>2020-12-02 07:36:56.522423 UTC</td>\n",
       "      <td>2020-12-02 07:40:45.201722 UTC</td>\n",
       "      <td>1</td>\n",
       "    </tr>\n",
       "  </tbody>\n",
       "</table>\n",
       "</div>"
      ],
      "text/plain": [
       "            sku      ID                                               name  \\\n",
       "1474200  SWA051  SWA051  dr. stephen langer's ultimate 16 strain probio...   \n",
       "1474201  SWA051  SWA051  dr. stephen langer's ultimate 16 strain probio...   \n",
       "1474202  SWA051  SWA051  dr. stephen langer's ultimate 16 strain probio...   \n",
       "1474203  SWA051  SWA051                      3.2 billion cfu 60 veg drcaps   \n",
       "\n",
       "         price          collection attributedSearches quantity listLocation  \\\n",
       "1474200  14.79  Swanson Probiotics                 []      NaN          NaN   \n",
       "1474201  14.79             default                 []      NaN          NaN   \n",
       "1474202  14.79             default                 []        3          NaN   \n",
       "1474203  14.79  Swanson Probiotics                 []        3          NaN   \n",
       "\n",
       "        listPosition          customerVisitorId  \\\n",
       "1474200          NaN  cki8pfl1y000139ebdeezn6pn   \n",
       "1474201          NaN  cki8pfl1y000139ebdeezn6pn   \n",
       "1474202          NaN  cki8pfl1y000139ebdeezn6pn   \n",
       "1474203          NaN  cki8pfl1y000139ebdeezn6pn   \n",
       "\n",
       "                           customerSessionId                sessionStartTime  \\\n",
       "1474200  cki8pfl1y000139ebdeezn6pn1606894616  2020-12-02 07:36:56.522423 UTC   \n",
       "1474201  cki8pfl1y000139ebdeezn6pn1606894616  2020-12-02 07:36:56.522423 UTC   \n",
       "1474202  cki8pfl1y000139ebdeezn6pn1606894616  2020-12-02 07:36:56.522423 UTC   \n",
       "1474203  cki8pfl1y000139ebdeezn6pn1606894616  2020-12-02 07:36:56.522423 UTC   \n",
       "\n",
       "                         sessionEndTime customerSessionNumber  \n",
       "1474200  2020-12-02 07:40:45.201722 UTC                     1  \n",
       "1474201  2020-12-02 07:40:45.201722 UTC                     1  \n",
       "1474202  2020-12-02 07:40:45.201722 UTC                     1  \n",
       "1474203  2020-12-02 07:40:45.201722 UTC                     1  "
      ]
     },
     "execution_count": 8,
     "metadata": {},
     "output_type": "execute_result"
    }
   ],
   "source": [
    "hits[hits.customerVisitorId=='cki8pfl1y000139ebdeezn6pn']"
   ]
  },
  {
   "cell_type": "code",
   "execution_count": 103,
   "metadata": {},
   "outputs": [
    {
     "data": {
      "text/plain": [
       "swansonhealthproduction    1573529\n",
       "default                      36134\n",
       "Swanson Premium              17705\n",
       "Swanson Ultra                11953\n",
       "NOW Foods                     6493\n",
       "                            ...   \n",
       "Atkins                           1\n",
       "Dr. Linus Pauling                1\n",
       "EFX Sports                       1\n",
       "Aaraam                           1\n",
       "Red Ace                          1\n",
       "Name: collection, Length: 905, dtype: int64"
      ]
     },
     "execution_count": 103,
     "metadata": {},
     "output_type": "execute_result"
    }
   ],
   "source": [
    "hits.collection.value_counts()"
   ]
  },
  {
   "cell_type": "code",
   "execution_count": 7,
   "metadata": {
    "id": "9896b553"
   },
   "outputs": [],
   "source": [
    "all_cols = df.columns[df.columns.str.contains('totals')].tolist() + cols"
   ]
  },
  {
   "cell_type": "code",
   "execution_count": 8,
   "metadata": {
    "id": "10e41c7a"
   },
   "outputs": [],
   "source": [
    "df_merged = df[all_cols].merge(hits, how='left', on=cols)"
   ]
  },
  {
   "cell_type": "code",
   "execution_count": 12,
   "metadata": {
    "colab": {
     "base_uri": "https://localhost:8080/",
     "height": 576
    },
    "id": "1403d256",
    "outputId": "975e1a51-087b-4102-f6b9-e0686d8eefb9"
   },
   "outputs": [
    {
     "data": {
      "text/html": [
       "<div>\n",
       "<style scoped>\n",
       "    .dataframe tbody tr th:only-of-type {\n",
       "        vertical-align: middle;\n",
       "    }\n",
       "\n",
       "    .dataframe tbody tr th {\n",
       "        vertical-align: top;\n",
       "    }\n",
       "\n",
       "    .dataframe thead th {\n",
       "        text-align: right;\n",
       "    }\n",
       "</style>\n",
       "<table border=\"1\" class=\"dataframe\">\n",
       "  <thead>\n",
       "    <tr style=\"text-align: right;\">\n",
       "      <th></th>\n",
       "      <th>ID</th>\n",
       "      <th>name</th>\n",
       "      <th>price</th>\n",
       "      <th>totals.totalOrders</th>\n",
       "      <th>totals.totalOrderQty</th>\n",
       "      <th>customerSessionId</th>\n",
       "      <th>customerSessionNumber</th>\n",
       "      <th>totals.uniqueOrders</th>\n",
       "      <th>totals.totalViewProducts</th>\n",
       "      <th>totals.totalAddToCarts</th>\n",
       "    </tr>\n",
       "  </thead>\n",
       "  <tbody>\n",
       "    <tr>\n",
       "      <th>1474537</th>\n",
       "      <td>SWA051</td>\n",
       "      <td>dr. stephen langer's ultimate 16 strain probio...</td>\n",
       "      <td>14.79</td>\n",
       "      <td>1</td>\n",
       "      <td>3</td>\n",
       "      <td>cki8pfl1y000139ebdeezn6pn1606894616</td>\n",
       "      <td>1</td>\n",
       "      <td>1</td>\n",
       "      <td>2</td>\n",
       "      <td>1</td>\n",
       "    </tr>\n",
       "    <tr>\n",
       "      <th>1474538</th>\n",
       "      <td>SWA051</td>\n",
       "      <td>dr. stephen langer's ultimate 16 strain probio...</td>\n",
       "      <td>14.79</td>\n",
       "      <td>1</td>\n",
       "      <td>3</td>\n",
       "      <td>cki8pfl1y000139ebdeezn6pn1606894616</td>\n",
       "      <td>1</td>\n",
       "      <td>1</td>\n",
       "      <td>2</td>\n",
       "      <td>1</td>\n",
       "    </tr>\n",
       "    <tr>\n",
       "      <th>1474539</th>\n",
       "      <td>SWA051</td>\n",
       "      <td>dr. stephen langer's ultimate 16 strain probio...</td>\n",
       "      <td>14.79</td>\n",
       "      <td>1</td>\n",
       "      <td>3</td>\n",
       "      <td>cki8pfl1y000139ebdeezn6pn1606894616</td>\n",
       "      <td>1</td>\n",
       "      <td>1</td>\n",
       "      <td>2</td>\n",
       "      <td>1</td>\n",
       "    </tr>\n",
       "    <tr>\n",
       "      <th>1474540</th>\n",
       "      <td>SWA051</td>\n",
       "      <td>3.2 billion cfu 60 veg drcaps</td>\n",
       "      <td>14.79</td>\n",
       "      <td>1</td>\n",
       "      <td>3</td>\n",
       "      <td>cki8pfl1y000139ebdeezn6pn1606894616</td>\n",
       "      <td>1</td>\n",
       "      <td>1</td>\n",
       "      <td>2</td>\n",
       "      <td>1</td>\n",
       "    </tr>\n",
       "  </tbody>\n",
       "</table>\n",
       "</div>"
      ],
      "text/plain": [
       "             ID                                               name  price  \\\n",
       "1474537  SWA051  dr. stephen langer's ultimate 16 strain probio...  14.79   \n",
       "1474538  SWA051  dr. stephen langer's ultimate 16 strain probio...  14.79   \n",
       "1474539  SWA051  dr. stephen langer's ultimate 16 strain probio...  14.79   \n",
       "1474540  SWA051                      3.2 billion cfu 60 veg drcaps  14.79   \n",
       "\n",
       "        totals.totalOrders totals.totalOrderQty  \\\n",
       "1474537                  1                    3   \n",
       "1474538                  1                    3   \n",
       "1474539                  1                    3   \n",
       "1474540                  1                    3   \n",
       "\n",
       "                           customerSessionId customerSessionNumber  \\\n",
       "1474537  cki8pfl1y000139ebdeezn6pn1606894616                     1   \n",
       "1474538  cki8pfl1y000139ebdeezn6pn1606894616                     1   \n",
       "1474539  cki8pfl1y000139ebdeezn6pn1606894616                     1   \n",
       "1474540  cki8pfl1y000139ebdeezn6pn1606894616                     1   \n",
       "\n",
       "        totals.uniqueOrders totals.totalViewProducts totals.totalAddToCarts  \n",
       "1474537                   1                        2                      1  \n",
       "1474538                   1                        2                      1  \n",
       "1474539                   1                        2                      1  \n",
       "1474540                   1                        2                      1  "
      ]
     },
     "execution_count": 12,
     "metadata": {},
     "output_type": "execute_result"
    }
   ],
   "source": [
    "df_merged[df_merged.customerVisitorId=='cki8pfl1y000139ebdeezn6pn'][['ID', 'name', 'price', 'totals.totalOrders', 'totals.totalOrderQty', 'customerSessionId', 'customerSessionNumber', 'totals.uniqueOrders', 'totals.totalViewProducts', 'totals.totalAddToCarts']]"
   ]
  },
  {
   "cell_type": "code",
   "execution_count": null,
   "metadata": {
    "colab": {
     "base_uri": "https://localhost:8080/",
     "height": 352
    },
    "id": "OfHlBXMWt9UW",
    "outputId": "32b3e7ea-126f-41a7-9c1c-76cfb792fc55"
   },
   "outputs": [
    {
     "data": {
      "text/plain": [
       "(array([1.23361e+05, 1.46570e+04, 2.08600e+03, 4.64000e+02, 9.60000e+01,\n",
       "        4.90000e+01, 5.00000e+00, 1.00000e+00, 8.00000e+00, 9.00000e+00]),\n",
       " array([  0.66 ,  23.914,  47.168,  70.422,  93.676, 116.93 , 140.184,\n",
       "        163.438, 186.692, 209.946, 233.2  ]),\n",
       " <a list of 10 Patch objects>)"
      ]
     },
     "execution_count": 52,
     "metadata": {
      "tags": []
     },
     "output_type": "execute_result"
    },
    {
     "data": {
      "image/png": "[encoded data removed]",
      "text/plain": [
       "<Figure size 432x288 with 1 Axes>"
      ]
     },
     "metadata": {
      "tags": []
     },
     "output_type": "display_data"
    }
   ],
   "source": [
    "plt.hist(hits.price)"
   ]
  },
  {
   "cell_type": "markdown",
   "metadata": {},
   "source": [
    "### Filter price"
   ]
  },
  {
   "cell_type": "code",
   "execution_count": 80,
   "metadata": {},
   "outputs": [],
   "source": [
    "df_merged2 = df_merged[(df_merged.price>=11) & (df_merged.price<=24)] "
   ]
  },
  {
   "cell_type": "code",
   "execution_count": null,
   "metadata": {
    "id": "nuXyRvPCuYN_"
   },
   "outputs": [],
   "source": [
    "md = np.median(hits[~hits.price.isnull()].price)"
   ]
  },
  {
   "cell_type": "code",
   "execution_count": null,
   "metadata": {
    "colab": {
     "base_uri": "https://localhost:8080/"
    },
    "id": "4z5CRnnltqH_",
    "outputId": "4f1cadbf-c900-4472-9100-42db334b2d1b"
   },
   "outputs": [
    {
     "data": {
      "text/plain": [
       "1714266"
      ]
     },
     "execution_count": 48,
     "metadata": {
      "tags": []
     },
     "output_type": "execute_result"
    }
   ],
   "source": [
    "len(hits['price'])"
   ]
  },
  {
   "cell_type": "code",
   "execution_count": 9,
   "metadata": {
    "id": "77746187"
   },
   "outputs": [],
   "source": [
    "df_rm_dup = df_merged.drop_duplicates(['customerVisitorId', 'ID', 'price', 'customerSessionId'])"
   ]
  },
  {
   "cell_type": "code",
   "execution_count": 19,
   "metadata": {},
   "outputs": [
    {
     "data": {
      "text/plain": [
       "swansonhealthproduction    9.164339e-01\n",
       "Swanson Premium            1.230345e-02\n",
       "Swanson Ultra              8.300530e-03\n",
       "default                    6.516277e-03\n",
       "NOW Foods                  4.755789e-03\n",
       "                               ...     \n",
       "Ostrim                     9.505875e-07\n",
       "Inholtra                   9.505875e-07\n",
       "Maximum International      9.505875e-07\n",
       "Baie Run                   9.505875e-07\n",
       "Superfood For Skin         9.505875e-07\n",
       "Name: collection, Length: 905, dtype: float64"
      ]
     },
     "execution_count": 19,
     "metadata": {},
     "output_type": "execute_result"
    }
   ],
   "source": [
    "df_rm_dup.collection.value_counts(normalize=True)"
   ]
  },
  {
   "cell_type": "code",
   "execution_count": 15,
   "metadata": {
    "colab": {
     "base_uri": "https://localhost:8080/"
    },
    "id": "ZChVgmS3tXV_",
    "outputId": "7c33af4e-2c09-4a2e-c41f-d98f7f2a8a3c"
   },
   "outputs": [
    {
     "name": "stdout",
     "output_type": "stream",
     "text": [
      "<class 'pandas.core.frame.DataFrame'>\n",
      "Int64Index: 1052318 entries, 0 to 1714602\n",
      "Data columns (total 4 columns):\n",
      " #   Column      Non-Null Count    Dtype  \n",
      "---  ------      --------------    -----  \n",
      " 0   ID          1051981 non-null  object \n",
      " 1   price       87909 non-null    float64\n",
      " 2   collection  1051981 non-null  object \n",
      " 3   name        87910 non-null    object \n",
      "dtypes: float64(1), object(3)\n",
      "memory usage: 40.1+ MB\n"
     ]
    }
   ],
   "source": [
    "df_rm_dup[['ID', 'price', 'collection', 'name']].info()"
   ]
  },
  {
   "cell_type": "code",
   "execution_count": 55,
   "metadata": {},
   "outputs": [
    {
     "data": {
      "text/plain": [
       "2441          NaN\n",
       "2442       CSN193\n",
       "2443          NaN\n",
       "2444       SWF116\n",
       "2445       SWF068\n",
       "            ...  \n",
       "1714334    CRL396\n",
       "1714335    SW1453\n",
       "1714336    SWU248\n",
       "1714337    NWF270\n",
       "1714338    NWF139\n",
       "Name: ID, Length: 964408, dtype: object"
      ]
     },
     "execution_count": 55,
     "metadata": {},
     "output_type": "execute_result"
    }
   ],
   "source": [
    "df_rm_dup[df_rm_dup.name.isnull()].ID"
   ]
  },
  {
   "cell_type": "markdown",
   "metadata": {},
   "source": [
    "### Create dictionary of item ID, name, price, collection"
   ]
  },
  {
   "cell_type": "code",
   "execution_count": 106,
   "metadata": {},
   "outputs": [],
   "source": [
    "mult_collection = df_rm_dup.groupby('ID')['collection'].nunique().sort_values(ascending=False).reset_index()"
   ]
  },
  {
   "cell_type": "code",
   "execution_count": 112,
   "metadata": {},
   "outputs": [
    {
     "data": {
      "text/html": [
       "<div>\n",
       "<style scoped>\n",
       "    .dataframe tbody tr th:only-of-type {\n",
       "        vertical-align: middle;\n",
       "    }\n",
       "\n",
       "    .dataframe tbody tr th {\n",
       "        vertical-align: top;\n",
       "    }\n",
       "\n",
       "    .dataframe thead th {\n",
       "        text-align: right;\n",
       "    }\n",
       "</style>\n",
       "<table border=\"1\" class=\"dataframe\">\n",
       "  <thead>\n",
       "    <tr style=\"text-align: right;\">\n",
       "      <th></th>\n",
       "      <th>ID</th>\n",
       "      <th>collection</th>\n",
       "    </tr>\n",
       "  </thead>\n",
       "  <tbody>\n",
       "    <tr>\n",
       "      <th>0</th>\n",
       "      <td>SW923</td>\n",
       "      <td>7</td>\n",
       "    </tr>\n",
       "    <tr>\n",
       "      <th>1</th>\n",
       "      <td>SW1371</td>\n",
       "      <td>6</td>\n",
       "    </tr>\n",
       "    <tr>\n",
       "      <th>2</th>\n",
       "      <td>SW1113</td>\n",
       "      <td>6</td>\n",
       "    </tr>\n",
       "    <tr>\n",
       "      <th>3</th>\n",
       "      <td>SWA051</td>\n",
       "      <td>6</td>\n",
       "    </tr>\n",
       "    <tr>\n",
       "      <th>4</th>\n",
       "      <td>SW1782</td>\n",
       "      <td>6</td>\n",
       "    </tr>\n",
       "    <tr>\n",
       "      <th>...</th>\n",
       "      <td>...</td>\n",
       "      <td>...</td>\n",
       "    </tr>\n",
       "    <tr>\n",
       "      <th>17475</th>\n",
       "      <td>KND004</td>\n",
       "      <td>1</td>\n",
       "    </tr>\n",
       "    <tr>\n",
       "      <th>17476</th>\n",
       "      <td>SN135</td>\n",
       "      <td>1</td>\n",
       "    </tr>\n",
       "    <tr>\n",
       "      <th>17477</th>\n",
       "      <td>NWF1044</td>\n",
       "      <td>1</td>\n",
       "    </tr>\n",
       "    <tr>\n",
       "      <th>17478</th>\n",
       "      <td>SN132</td>\n",
       "      <td>1</td>\n",
       "    </tr>\n",
       "    <tr>\n",
       "      <th>17479</th>\n",
       "      <td>NCL095</td>\n",
       "      <td>1</td>\n",
       "    </tr>\n",
       "  </tbody>\n",
       "</table>\n",
       "<p>17480 rows × 2 columns</p>\n",
       "</div>"
      ],
      "text/plain": [
       "            ID  collection\n",
       "0        SW923           7\n",
       "1       SW1371           6\n",
       "2       SW1113           6\n",
       "3       SWA051           6\n",
       "4       SW1782           6\n",
       "...        ...         ...\n",
       "17475   KND004           1\n",
       "17476    SN135           1\n",
       "17477  NWF1044           1\n",
       "17478    SN132           1\n",
       "17479   NCL095           1\n",
       "\n",
       "[17480 rows x 2 columns]"
      ]
     },
     "execution_count": 112,
     "metadata": {},
     "output_type": "execute_result"
    }
   ],
   "source": [
    "mult_collection"
   ]
  },
  {
   "cell_type": "code",
   "execution_count": 117,
   "metadata": {},
   "outputs": [
    {
     "data": {
      "text/plain": [
       "array(['swansonhealthproduction', 'Swanson Premium', 'default', 'Kal',\n",
       "       'Life Extension', 'Swanson Ultra', 'Swanson Superior Herbs'],\n",
       "      dtype=object)"
      ]
     },
     "execution_count": 117,
     "metadata": {},
     "output_type": "execute_result"
    }
   ],
   "source": [
    "hits[hits.ID=='SW923'].collection.unique()"
   ]
  },
  {
   "cell_type": "code",
   "execution_count": 119,
   "metadata": {},
   "outputs": [],
   "source": [
    "dic = {}\n",
    "for i in range(len(df_rm_dup)):\n",
    "    prod = df_rm_dup.iloc[i]\n",
    "    if prod.ID not in dic.keys() and str(prod.sku) != 'nan':\n",
    "        dic[prod.ID] = {}\n",
    "        dic[prod.ID]['name'] = prod['name']\n",
    "        dic[prod.ID]['collection'] = prod.collection\n",
    "        dic[prod.ID]['price'] = prod.price"
   ]
  },
  {
   "cell_type": "code",
   "execution_count": 10,
   "metadata": {
    "colab": {
     "base_uri": "https://localhost:8080/"
    },
    "id": "eb8da79b",
    "outputId": "df749e44-53cc-4830-d05c-db43ee77dc21"
   },
   "outputs": [
    {
     "name": "stderr",
     "output_type": "stream",
     "text": [
      "/home/ec2-user/anaconda3/envs/tensorflow_p36/lib/python3.6/site-packages/ipykernel/__main__.py:1: SettingWithCopyWarning: \n",
      "A value is trying to be set on a copy of a slice from a DataFrame.\n",
      "Try using .loc[row_indexer,col_indexer] = value instead\n",
      "\n",
      "See the caveats in the documentation: https://pandas.pydata.org/pandas-docs/stable/user_guide/indexing.html#returning-a-view-versus-a-copy\n",
      "  if __name__ == '__main__':\n",
      "/home/ec2-user/anaconda3/envs/tensorflow_p36/lib/python3.6/site-packages/ipykernel/__main__.py:2: SettingWithCopyWarning: \n",
      "A value is trying to be set on a copy of a slice from a DataFrame.\n",
      "Try using .loc[row_indexer,col_indexer] = value instead\n",
      "\n",
      "See the caveats in the documentation: https://pandas.pydata.org/pandas-docs/stable/user_guide/indexing.html#returning-a-view-versus-a-copy\n",
      "  from ipykernel import kernelapp as app\n"
     ]
    }
   ],
   "source": [
    "df_rm_dup['totals.totalOrderQty'] = df_rm_dup['totals.totalOrderQty'].fillna(0)\n",
    "df_rm_dup['totals.totalOrderQty'] = df_rm_dup['totals.totalOrderQty'].astype(int)\n",
    "num_purchase = df_rm_dup.groupby(['customerVisitorId', 'ID']).agg({'totals.totalOrderQty':'sum', 'price':'mean', 'customerSessionId':'nunique', 'collection':'first'})\n",
    "num_purchase = num_purchase.reset_index().rename(columns={\"totals.totalOrderQty\":\"numPurchase\"})\n",
    "num_purchase['Purchase'] = num_purchase.numPurchase.apply(lambda x: 1 if x!=0 else 0)"
   ]
  },
  {
   "cell_type": "code",
   "execution_count": 89,
   "metadata": {},
   "outputs": [],
   "source": [
    "cust_collection = num_purchase.groupby(\"customerVisitorId\")['collection'].apply(list).reset_index()"
   ]
  },
  {
   "cell_type": "code",
   "execution_count": 94,
   "metadata": {},
   "outputs": [],
   "source": [
    "cust_collection['contains_swansonhealth'] = cust_collection['collection'].apply(lambda x: 'swansonhealthproduction' not in x)"
   ]
  },
  {
   "cell_type": "code",
   "execution_count": null,
   "metadata": {
    "id": "3ae49372"
   },
   "outputs": [],
   "source": [
    "num_purchase['price'] = np.where(num_purchase.price.isnull(), md, num_purchase.price)"
   ]
  },
  {
   "cell_type": "code",
   "execution_count": 11,
   "metadata": {},
   "outputs": [],
   "source": [
    "num_purchase['price_category'] = np.where(num_purchase.price>=94, 'very expensive', np.where((num_purchase.price>= 48) & (num_purchase.price<94), 'expensive', np.where((num_purchase.price>= 24) & (num_purchase.price<48), 'medium', 'cheap')))"
   ]
  },
  {
   "cell_type": "code",
   "execution_count": 11,
   "metadata": {},
   "outputs": [
    {
     "data": {
      "text/html": [
       "<div>\n",
       "<style scoped>\n",
       "    .dataframe tbody tr th:only-of-type {\n",
       "        vertical-align: middle;\n",
       "    }\n",
       "\n",
       "    .dataframe tbody tr th {\n",
       "        vertical-align: top;\n",
       "    }\n",
       "\n",
       "    .dataframe thead th {\n",
       "        text-align: right;\n",
       "    }\n",
       "</style>\n",
       "<table border=\"1\" class=\"dataframe\">\n",
       "  <thead>\n",
       "    <tr style=\"text-align: right;\">\n",
       "      <th></th>\n",
       "      <th>customerVisitorId</th>\n",
       "      <th>ID</th>\n",
       "      <th>numPurchase</th>\n",
       "      <th>price</th>\n",
       "      <th>customerSessionId</th>\n",
       "      <th>collection</th>\n",
       "      <th>Purchase</th>\n",
       "    </tr>\n",
       "  </thead>\n",
       "  <tbody>\n",
       "    <tr>\n",
       "      <th>0</th>\n",
       "      <td>cjo06cah000013ea3jqwotb8g</td>\n",
       "      <td>AAM013</td>\n",
       "      <td>0</td>\n",
       "      <td>NaN</td>\n",
       "      <td>2</td>\n",
       "      <td>swansonhealthproduction</td>\n",
       "      <td>0</td>\n",
       "    </tr>\n",
       "    <tr>\n",
       "      <th>1</th>\n",
       "      <td>cjo06cah000013ea3jqwotb8g</td>\n",
       "      <td>AAM016</td>\n",
       "      <td>0</td>\n",
       "      <td>NaN</td>\n",
       "      <td>2</td>\n",
       "      <td>swansonhealthproduction</td>\n",
       "      <td>0</td>\n",
       "    </tr>\n",
       "    <tr>\n",
       "      <th>2</th>\n",
       "      <td>cjo06cah000013ea3jqwotb8g</td>\n",
       "      <td>AAM019</td>\n",
       "      <td>0</td>\n",
       "      <td>NaN</td>\n",
       "      <td>2</td>\n",
       "      <td>swansonhealthproduction</td>\n",
       "      <td>0</td>\n",
       "    </tr>\n",
       "    <tr>\n",
       "      <th>3</th>\n",
       "      <td>cjo06cah000013ea3jqwotb8g</td>\n",
       "      <td>ARG010</td>\n",
       "      <td>0</td>\n",
       "      <td>NaN</td>\n",
       "      <td>2</td>\n",
       "      <td>swansonhealthproduction</td>\n",
       "      <td>0</td>\n",
       "    </tr>\n",
       "    <tr>\n",
       "      <th>4</th>\n",
       "      <td>cjo06cah000013ea3jqwotb8g</td>\n",
       "      <td>DB088</td>\n",
       "      <td>0</td>\n",
       "      <td>NaN</td>\n",
       "      <td>2</td>\n",
       "      <td>swansonhealthproduction</td>\n",
       "      <td>0</td>\n",
       "    </tr>\n",
       "  </tbody>\n",
       "</table>\n",
       "</div>"
      ],
      "text/plain": [
       "           customerVisitorId      ID  numPurchase  price  customerSessionId  \\\n",
       "0  cjo06cah000013ea3jqwotb8g  AAM013            0    NaN                  2   \n",
       "1  cjo06cah000013ea3jqwotb8g  AAM016            0    NaN                  2   \n",
       "2  cjo06cah000013ea3jqwotb8g  AAM019            0    NaN                  2   \n",
       "3  cjo06cah000013ea3jqwotb8g  ARG010            0    NaN                  2   \n",
       "4  cjo06cah000013ea3jqwotb8g   DB088            0    NaN                  2   \n",
       "\n",
       "                collection  Purchase  \n",
       "0  swansonhealthproduction         0  \n",
       "1  swansonhealthproduction         0  \n",
       "2  swansonhealthproduction         0  \n",
       "3  swansonhealthproduction         0  \n",
       "4  swansonhealthproduction         0  "
      ]
     },
     "execution_count": 11,
     "metadata": {},
     "output_type": "execute_result"
    }
   ],
   "source": [
    "num_purchase.head()"
   ]
  },
  {
   "cell_type": "markdown",
   "metadata": {},
   "source": [
    "## Analysis of product price category and number of sessions with regards to purchase"
   ]
  },
  {
   "cell_type": "code",
   "execution_count": 45,
   "metadata": {},
   "outputs": [
    {
     "data": {
      "text/plain": [
       "price_category\n",
       "cheap             1.019692\n",
       "expensive         1.066176\n",
       "medium            1.090868\n",
       "very expensive    1.000000\n",
       "Name: customerSessionId, dtype: float64"
      ]
     },
     "execution_count": 45,
     "metadata": {},
     "output_type": "execute_result"
    }
   ],
   "source": [
    "num_purchase[num_purchase.Purchase==1].groupby('price_category')['customerSessionId'].mean()"
   ]
  },
  {
   "cell_type": "code",
   "execution_count": 117,
   "metadata": {},
   "outputs": [
    {
     "data": {
      "text/plain": [
       "Text(0.5, 1.0, 'Groupby Data Filter by Category')"
      ]
     },
     "execution_count": 117,
     "metadata": {},
     "output_type": "execute_result"
    },
    {
     "data": {
      "image/png": "[encoded data removed]",
      "text/plain": [
       "<Figure size 432x288 with 1 Axes>"
      ]
     },
     "metadata": {
      "needs_background": "light"
     },
     "output_type": "display_data"
    }
   ],
   "source": [
    "plt.scatter(num_purchase[(num_purchase.collection=='swansonhealthproduction')].price_category, num_purchase[num_purchase.collection=='swansonhealthproduction'].customerSessionId)\n",
    "plt.xlabel('price category')\n",
    "plt.ylabel('number of sessions')\n",
    "plt.title('Groupby Data Filter by Category')"
   ]
  },
  {
   "cell_type": "code",
   "execution_count": 102,
   "metadata": {},
   "outputs": [
    {
     "data": {
      "text/plain": [
       "2649"
      ]
     },
     "execution_count": 102,
     "metadata": {},
     "output_type": "execute_result"
    }
   ],
   "source": [
    "num_purchase[(num_purchase.Purchase==1) & (num_purchase.price>=11) & (num_purchase.price<=24)].ID.nunique()"
   ]
  },
  {
   "cell_type": "code",
   "execution_count": 49,
   "metadata": {},
   "outputs": [
    {
     "data": {
      "text/plain": [
       "price_category\n",
       "cheap             986914\n",
       "expensive           1550\n",
       "medium              8772\n",
       "very expensive       128\n",
       "Name: ID, dtype: int64"
      ]
     },
     "execution_count": 49,
     "metadata": {},
     "output_type": "execute_result"
    }
   ],
   "source": [
    "num_purchase.groupby('price_category')['ID'].count()"
   ]
  },
  {
   "cell_type": "code",
   "execution_count": 39,
   "metadata": {},
   "outputs": [
    {
     "data": {
      "text/plain": [
       "<matplotlib.collections.PathCollection at 0x7fac11f4fef0>"
      ]
     },
     "execution_count": 39,
     "metadata": {},
     "output_type": "execute_result"
    },
    {
     "data": {
      "image/png": "[encoded data removed]",
      "text/plain": [
       "<Figure size 432x288 with 1 Axes>"
      ]
     },
     "metadata": {
      "needs_background": "light"
     },
     "output_type": "display_data"
    }
   ],
   "source": [
    "plt.scatter(num_purchase[num_purchase.Purchase==0].customerSessionId, num_purchase[num_purchase.Purchase==0].price)"
   ]
  },
  {
   "cell_type": "markdown",
   "metadata": {
    "id": "59deb013"
   },
   "source": [
    "## Splitting data into train and test sets"
   ]
  },
  {
   "cell_type": "code",
   "execution_count": 12,
   "metadata": {
    "id": "ILxcT9WK9tqi"
   },
   "outputs": [],
   "source": [
    "def random_split(data, user_id, item_id, metric, item_features=None):\n",
    "  dataset = Dataset()\n",
    "  dataset.fit(data[user_id], data[item_id], item_features=item_features)\n",
    "  num_users, num_items = dataset.interactions_shape()\n",
    "  print('Num users: {}, num_items {}.'.format(num_users, num_items))\n",
    "  dataset.fit_partial(users=data[user_id], \n",
    "                     items=data[item_id],\n",
    "                     item_features=item_features)\n",
    "  fe = data.to_dict(orient='records')\n",
    "  (interactions, weights) = dataset.build_interactions((x[user_id], x[item_id], x[metric]) for x in fe)\n",
    "  (train, test) = random_train_test_split(interactions=interactions, test_percentage=0.2, random_state=2)\n",
    "  print('Num values: {}'.format(len(interactions.data)))  \n",
    "  return dataset, train, test, interactions"
   ]
  },
  {
   "cell_type": "code",
   "execution_count": 13,
   "metadata": {},
   "outputs": [],
   "source": [
    "def calc_sparsity(data, user_id, item_id, metric):\n",
    "    item_user_matrix = pd.DataFrame(data.pivot_table(index=[user_id], columns=item_id, values=metric))\n",
    "    item_user_matrix.fillna(0,inplace=True)\n",
    "    print('sparsity in data:',(1.0 - (np.count_nonzero(item_user_matrix) / float(item_user_matrix.size))))"
   ]
  },
  {
   "cell_type": "code",
   "execution_count": 17,
   "metadata": {},
   "outputs": [
    {
     "name": "stdout",
     "output_type": "stream",
     "text": [
      "Num users: 44599, num_items 17480.\n",
      "Num values: 997364\n"
     ]
    }
   ],
   "source": [
    "dataset, train_g, test_g, interactions = random_split(num_purchase, 'customerVisitorId', 'ID', 'Purchase')"
   ]
  },
  {
   "cell_type": "code",
   "execution_count": 29,
   "metadata": {},
   "outputs": [
    {
     "data": {
      "text/plain": [
       "(44599, 17480)"
      ]
     },
     "execution_count": 29,
     "metadata": {},
     "output_type": "execute_result"
    }
   ],
   "source": [
    "train_g.shape"
   ]
  },
  {
   "cell_type": "code",
   "execution_count": 30,
   "metadata": {},
   "outputs": [
    {
     "data": {
      "text/plain": [
       "(44599, 17480)"
      ]
     },
     "execution_count": 30,
     "metadata": {},
     "output_type": "execute_result"
    }
   ],
   "source": [
    "test_g.shape"
   ]
  },
  {
   "cell_type": "markdown",
   "metadata": {},
   "source": [
    "## Create dictionary to map user and item index"
   ]
  },
  {
   "cell_type": "code",
   "execution_count": 28,
   "metadata": {},
   "outputs": [],
   "source": [
    "user_id_map, user_features, item_id_map, item_features = dataset.mapping()"
   ]
  },
  {
   "cell_type": "code",
   "execution_count": 31,
   "metadata": {},
   "outputs": [],
   "source": [
    "item_id_map_rev = {int(v):k for k,v in item_id_map.items()}"
   ]
  },
  {
   "cell_type": "code",
   "execution_count": 32,
   "metadata": {},
   "outputs": [],
   "source": [
    "user_id_map_rev = {int(v):k for k,v in user_id_map.items()}"
   ]
  },
  {
   "cell_type": "code",
   "execution_count": 107,
   "metadata": {},
   "outputs": [
    {
     "data": {
      "text/plain": [
       "<44599x17480 sparse matrix of type '<class 'numpy.int32'>'\n",
       "\twith 797891 stored elements in COOrdinate format>"
      ]
     },
     "execution_count": 107,
     "metadata": {},
     "output_type": "execute_result"
    }
   ],
   "source": [
    "train_g"
   ]
  },
  {
   "cell_type": "code",
   "execution_count": 108,
   "metadata": {},
   "outputs": [
    {
     "data": {
      "text/plain": [
       "<44599x17480 sparse matrix of type '<class 'numpy.int32'>'\n",
       "\twith 199473 stored elements in COOrdinate format>"
      ]
     },
     "execution_count": 108,
     "metadata": {},
     "output_type": "execute_result"
    }
   ],
   "source": [
    "test_g"
   ]
  },
  {
   "cell_type": "code",
   "execution_count": 89,
   "metadata": {},
   "outputs": [
    {
     "name": "stdout",
     "output_type": "stream",
     "text": [
      "sparsity in data: 0.999594617954051\n"
     ]
    }
   ],
   "source": [
    "calc_sparsity(num_purchase, 'customerVisitorId', 'ID', 'Purchase')"
   ]
  },
  {
   "cell_type": "markdown",
   "metadata": {
    "id": "cgOJeaf1pxHk"
   },
   "source": [
    "## LightFM model training"
   ]
  },
  {
   "cell_type": "code",
   "execution_count": 14,
   "metadata": {
    "id": "XJJvHKlt-oGe"
   },
   "outputs": [],
   "source": [
    "def model_fit_eval(loss, train, test, n_components, k_items, k=5, n=10, item_features=None):\n",
    "  model = LightFM(no_components=n_components, loss=loss, item_alpha=1e-6, random_state=2, k=k, n=n)\n",
    "  %time model.fit(train, epochs=10, num_threads=3, item_features=item_features)\n",
    "  test_auc = auc_score(model, test, train_interactions=train, num_threads=3, item_features=item_features).mean()\n",
    "  print('Collaborative filtering test AUC: %s' % test_auc)\n",
    "  prec = precision_at_k(model, test, train_interactions=train, num_threads=3, k=k_items, item_features=item_features).mean()\n",
    "  print('Collaborative filtering test precision: %s' % prec)\n",
    "  recal = recall_at_k(model, test, train_interactions=train, num_threads=3, k=k_items, item_features=item_features).mean()\n",
    "  print('Collaborative filtering test recall: %s' % recal)\n",
    "  return model"
   ]
  },
  {
   "cell_type": "code",
   "execution_count": 34,
   "metadata": {},
   "outputs": [
    {
     "name": "stdout",
     "output_type": "stream",
     "text": [
      "CPU times: user 24.6 s, sys: 19.5 ms, total: 24.6 s\n",
      "Wall time: 8.82 s\n",
      "Collaborative filtering test AUC: 0.8918844\n",
      "Collaborative filtering test precision: 0.38604438\n",
      "Collaborative filtering test recall: 0.29490969857731075\n"
     ]
    }
   ],
   "source": [
    "model_g = model_fit_eval('warp', train_g, test_g, 128, 5)"
   ]
  },
  {
   "cell_type": "code",
   "execution_count": 41,
   "metadata": {},
   "outputs": [],
   "source": [
    "#import boto3\n",
    "\n",
    "#s3 = boto3.resource('s3')\n",
    "#s3.meta.client.upload_file('./recdeployment/item_dist_mat.npz', 'groupby', 'interactions.npz')"
   ]
  },
  {
   "cell_type": "markdown",
   "metadata": {},
   "source": [
    "## Recommending items"
   ]
  },
  {
   "cell_type": "code",
   "execution_count": 32,
   "metadata": {},
   "outputs": [],
   "source": [
    "def similar_recommendation(model, interactions, user_id, user_dikt, \n",
    "                               item_dikt, item_dikt_rev, product_dict, threshold = 0, number_rec_items = 5):\n",
    "\n",
    "    #Function to produce user recommendations\n",
    "\n",
    "    n_items = len(item_dikt.keys())\n",
    "    user_x = user_dikt[user_id]\n",
    "    scores = pd.Series(model.predict(user_x,np.arange(n_items)))\n",
    "    scores.index = item_dikt.keys()\n",
    "    scores = list(pd.Series(scores.sort_values(ascending=False).index))\n",
    "    user_item_scores = interactions.toarray()[user_x]\n",
    "    item_index = np.where(user_item_scores>0)[0]\n",
    "    known_items = pd.DataFrame({ 'items': [item_dikt_rev[i] for i in item_index], 'scores':user_item_scores[item_index]}).sort_values('scores', ascending=False)\n",
    "    \n",
    "    scores = [x for x in scores if x not in known_items['items'].values]\n",
    "    score_list = scores[0:number_rec_items]\n",
    "\n",
    "    print(\"Items that were liked by the User:\")\n",
    "    counter = 1\n",
    "    for i in range(len(known_items)):\n",
    "        item = known_items.loc[i]['items']\n",
    "        if str(product_dict[item]['name']) != 'nan':\n",
    "            print(str(counter) + '- ' + str(product_dict[item]['name']) + ', ' + str(product_dict[item]['price']) + ', ' + product_dict[item]['collection'])\n",
    "        else:\n",
    "            print(str(counter) + '- ' + str(product_dict[item]['collection']))\n",
    "        counter+=1\n",
    "\n",
    "    print(\"\\n Recommended Items:\")\n",
    "    counter = 1\n",
    "    for i in score_list:\n",
    "        if str(product_dict[i]['name']) != 'nan':\n",
    "            print(str(counter) + '- ' + product_dict[i]['name'] + ', ' + str(product_dict[i]['price']) + ', ' + product_dict[i][\"collection\"]) \n",
    "        else:\n",
    "            print(str(counter) + '- ' + product_dict[i]['collection'])\n",
    "        counter+=1\n",
    "#     return score_list"
   ]
  },
  {
   "cell_type": "code",
   "execution_count": 33,
   "metadata": {},
   "outputs": [
    {
     "name": "stdout",
     "output_type": "stream",
     "text": [
      "Items that were liked by the User:\n",
      "1- zinc picolinate - body preferred form, 2.99, Swanson Premium\n",
      "\n",
      " Recommended Items:\n",
      "1- zinc citrate, 2.84, Swanson Premium\n",
      "2- vitamin c with rose hips, 11.49, Swanson Premium\n",
      "3- full spectrum saw palmetto, 9.49, Swanson Premium\n",
      "4- full spectrum ashwagandha, 5.79, Swanson Premium\n",
      "5- omega-3 fish oil - lemon flavor, 6.99, Swanson Premium\n"
     ]
    }
   ],
   "source": [
    "similar_recommendation(model, interactions, 'cjo06esrd00013gblo1n3haw7', user_id_map, \n",
    "                               item_id_map, item_id_map_rev, product_dic, threshold = 0, number_rec_items = 5)"
   ]
  },
  {
   "cell_type": "code",
   "execution_count": 35,
   "metadata": {},
   "outputs": [
    {
     "name": "stdout",
     "output_type": "stream",
     "text": [
      "Items that were liked by the User:\n",
      "1- long-lasting deodorant stick - refreshing lavender, 5.89, NOW Foods\n",
      "\n",
      " Recommended Items:\n",
      "1- 12 oz pwdr, 19.78, Swanson Ultra\n",
      "2- mct oil - 100% pure pharmaceutical grade, 7.98, Swanson Ultra\n",
      "3- acti-joint plus with krill oil, 13.18, Swanson Ultra\n",
      "4- vitamin d-3 & k-2, 5.99, NOW Foods\n",
      "5- chlorella complex, 17.99, Swanson Kyoto Brand\n"
     ]
    }
   ],
   "source": [
    "similar_recommendation(model, interactions, 'cjo09x89u00013gb80mn9xb57', user_id_map, \n",
    "                               item_id_map, item_id_map_rev, product_dic, threshold = 0, number_rec_items = 5)"
   ]
  },
  {
   "cell_type": "code",
   "execution_count": 123,
   "metadata": {},
   "outputs": [
    {
     "name": "stdout",
     "output_type": "stream",
     "text": [
      "Items that were liked by the User:\n",
      "1- 400 iu (10 mcg) 250 sgels, 3.99, Swanson Premium\n",
      "2- longjax eurycoma longifolia jack extract, 18.99, Swanson Passion\n",
      "3- high immunoglobulin colostrum, 18.39, default\n",
      "\n",
      " Recommended Items:\n",
      "1- vitamin d3 - highest potency, 10.99, default\n",
      "2- vitamin d3 - high potency, 4.79, default\n",
      "3- super stress vitamin b-complex with vitamin c, 15.49, Swanson Premium\n",
      "4- coq10 - high potency, 8.99, Swanson Ultra\n",
      "5- zinc picolinate - body preferred form, 2.99, Swanson Premium\n"
     ]
    }
   ],
   "source": [
    "similar_recommendation(model_g, 'cjo6507qf00013ac37tbxxu8z', user_id_map, \n",
    "                               item_id_map, item_id_map_rev, dic, threshold = 0, number_rec_items = 5)"
   ]
  },
  {
   "cell_type": "code",
   "execution_count": 23,
   "metadata": {},
   "outputs": [],
   "source": [
    "from sklearn.metrics.pairwise import cosine_similarity"
   ]
  },
  {
   "cell_type": "code",
   "execution_count": 20,
   "metadata": {},
   "outputs": [],
   "source": [
    "def item_emdedding_distance_matrix(model, item_dikt):\n",
    "\n",
    "#     Function to create item-item distance embedding matrix\n",
    "\n",
    "    df_item_norm_sparse = csr_matrix(model.item_embeddings)\n",
    "    similarities = cosine_similarity(df_item_norm_sparse)\n",
    "    item_emdedding_distance_matrix = pd.DataFrame(similarities)\n",
    "    item_emdedding_distance_matrix.columns = item_dikt.keys()\n",
    "    item_emdedding_distance_matrix.index = item_dikt.keys()\n",
    "    return item_emdedding_distance_matrix\n",
    "\n",
    "def also_bought_recommendation(item_emdedding_distance_matrix, item_id, \n",
    "                             product_dict, n_items = 5):\n",
    "\n",
    "#     Function to create item-item recommendation\n",
    "\n",
    "    recommended_items = list(pd.Series(item_emdedding_distance_matrix.loc[item_id,:]. \\\n",
    "                                  sort_values(ascending = False).head(n_items+1). \\\n",
    "                                  index[1:n_items+1]))\n",
    "    \n",
    "    print(\"Item of interest:\")\n",
    "    print(str(product_dict[item_id]['name']) + ', ' + str(product_dict[item_id]['price']) + ', ' + product_dict[item_id]['collection'])\n",
    "    print(\"\\n\")\n",
    "    print(\"Items that are frequently bought together:\")\n",
    "    counter = 1\n",
    "    for i in recommended_items:\n",
    "        if i in product_dict.keys():\n",
    "            print(str(counter) + '- ' + str(product_dict[i]['name']) + ', ' + str(product_dict[i]['price']) + ', ' + product_dict[i]['collection'])\n",
    "        else:\n",
    "            print(str(counter) + '- ' + 'swansonhealthproduct')\n",
    "        counter+=1\n",
    "    #return recommended_items"
   ]
  },
  {
   "cell_type": "code",
   "execution_count": 24,
   "metadata": {},
   "outputs": [],
   "source": [
    "item_dist = item_emdedding_distance_matrix(model, item_id_map)"
   ]
  },
  {
   "cell_type": "code",
   "execution_count": 177,
   "metadata": {},
   "outputs": [
    {
     "name": "stdout",
     "output_type": "stream",
     "text": [
      "Item of interest:\n",
      "zinc picolinate - body preferred form, 2.99, Swanson Premium\n",
      "\n",
      "\n",
      "Items that are frequently bought together:\n",
      "1- zinc citrate, 2.84, Swanson Premium\n",
      "2- vitamin d3 - high potency, 4.79, default\n",
      "3- full spectrum saw palmetto, 9.49, Swanson Premium\n",
      "4- vitamin c with rose hips, 11.49, Swanson Premium\n",
      "5- triple magnesium complex, 11.99, Swanson Premium\n"
     ]
    }
   ],
   "source": [
    "also_bought_recommendation(item_dist, 'SW1113', dic)"
   ]
  },
  {
   "cell_type": "code",
   "execution_count": 180,
   "metadata": {},
   "outputs": [
    {
     "name": "stdout",
     "output_type": "stream",
     "text": [
      "Item of interest:\n",
      "fat burner - 2 pack, 12.49, Swanson Best Weight-Control Formulas\n",
      "\n",
      "\n",
      "Items that are frequently bought together:\n",
      "1- fat burner, 7.99, Swanson Best Weight-Control Formulas\n",
      "2- swansonhealthproduct\n",
      "3- super fat burners extreme, 11.61, Natural Balance\n",
      "4- swansonhealthproduct\n",
      "5- full spectrum pterocarpus marsupium, 10.79, Swanson Premium\n"
     ]
    }
   ],
   "source": [
    "also_bought_recommendation(item_dist, 'SWD015', dic)"
   ]
  },
  {
   "cell_type": "markdown",
   "metadata": {
    "id": "v0Gvro1N9O0_"
   },
   "source": [
    "## Kaggle Cosmetics"
   ]
  },
  {
   "cell_type": "code",
   "execution_count": 15,
   "metadata": {
    "id": "UZixmptq9L6F"
   },
   "outputs": [],
   "source": [
    "all_features = pd.read_pickle(\"s3://groupby/data/dfCosmetics.pkl\")"
   ]
  },
  {
   "cell_type": "code",
   "execution_count": 62,
   "metadata": {},
   "outputs": [
    {
     "name": "stdout",
     "output_type": "stream",
     "text": [
      "<class 'pandas.core.frame.DataFrame'>\n",
      "Int64Index: 20583955 entries, 0 to 20583954\n",
      "Data columns (total 12 columns):\n",
      " #   Column          Dtype              \n",
      "---  ------          -----              \n",
      " 0   event_time      datetime64[ns, UTC]\n",
      " 1   event_type      object             \n",
      " 2   product_id      int64              \n",
      " 3   category_id     int64              \n",
      " 4   price           float64            \n",
      " 5   user_id         int64              \n",
      " 6   user_session    object             \n",
      " 7   year            object             \n",
      " 8   month           object             \n",
      " 9   day             object             \n",
      " 10  year_month_day  object             \n",
      " 11  day_seq         int64              \n",
      "dtypes: datetime64[ns, UTC](1), float64(1), int64(4), object(6)\n",
      "memory usage: 2.0+ GB\n"
     ]
    }
   ],
   "source": [
    "all_features.info()"
   ]
  },
  {
   "cell_type": "code",
   "execution_count": 101,
   "metadata": {},
   "outputs": [],
   "source": [
    "all_features2 = all_features[(all_features.price>=11) & (all_features.price<=24)]"
   ]
  },
  {
   "cell_type": "code",
   "execution_count": 124,
   "metadata": {},
   "outputs": [],
   "source": [
    "all_features2 = all_features[all_features.category_id == 1487580013950664926]"
   ]
  },
  {
   "cell_type": "code",
   "execution_count": 16,
   "metadata": {
    "id": "1ZGWxfmJ9TNA"
   },
   "outputs": [],
   "source": [
    "GroupUS = all_features.sort_values('event_time').groupby(['user_id', 'product_id'])"
   ]
  },
  {
   "cell_type": "code",
   "execution_count": 17,
   "metadata": {
    "id": "v_xd8DGs9UE9"
   },
   "outputs": [],
   "source": [
    "NumEventTime = GroupUS['event_type'].value_counts().unstack(fill_value = 0).rename(columns={'view':'NumTimesViewed','cart':'NumTimesCarted',\n",
    "                                                                                        'purchase':'NumTimesPurchased','remove_from_cart' : 'NumTimesRemoved'})"
   ]
  },
  {
   "cell_type": "code",
   "execution_count": 18,
   "metadata": {
    "id": "Fs5dbokX9XiB"
   },
   "outputs": [],
   "source": [
    "data = NumEventTime.reset_index()\n",
    "data['Purchase'] = data.NumTimesPurchased.apply(lambda x: 1 if x!=0 else 0)"
   ]
  },
  {
   "cell_type": "code",
   "execution_count": 19,
   "metadata": {},
   "outputs": [],
   "source": [
    "other_data = GroupUS.agg({'price':'mean', 'user_session':'nunique', 'category_id':'first'}).reset_index()"
   ]
  },
  {
   "cell_type": "code",
   "execution_count": 20,
   "metadata": {},
   "outputs": [],
   "source": [
    "data = data.merge(other_data, how='inner', on=['user_id', 'product_id'])"
   ]
  },
  {
   "cell_type": "code",
   "execution_count": 66,
   "metadata": {},
   "outputs": [
    {
     "data": {
      "text/plain": [
       "(array([9.557002e+06, 3.105470e+05, 1.182760e+05, 4.792400e+04,\n",
       "        3.099900e+04, 2.572200e+04, 7.511000e+03, 2.069000e+03,\n",
       "        4.323000e+03, 7.198000e+03]),\n",
       " array([5.00000e-02, 3.28230e+01, 6.55960e+01, 9.83690e+01, 1.31142e+02,\n",
       "        1.63915e+02, 1.96688e+02, 2.29461e+02, 2.62234e+02, 2.95007e+02,\n",
       "        3.27780e+02]),\n",
       " <BarContainer object of 10 artists>)"
      ]
     },
     "execution_count": 66,
     "metadata": {},
     "output_type": "execute_result"
    },
    {
     "data": {
      "image/png": "[encoded data removed]",
      "text/plain": [
       "<Figure size 432x288 with 1 Axes>"
      ]
     },
     "metadata": {
      "needs_background": "light"
     },
     "output_type": "display_data"
    }
   ],
   "source": [
    "plt.hist(data.price)"
   ]
  },
  {
   "cell_type": "code",
   "execution_count": 86,
   "metadata": {},
   "outputs": [],
   "source": [
    "data['price_category'] = np.where(data.price>=99, 'very expensive', np.where((data.price >= 66) & (data.price < 99), 'expensive', np.where((data.price >= 33) & (data.price<66), 'medium', 'cheap')))"
   ]
  },
  {
   "cell_type": "code",
   "execution_count": 85,
   "metadata": {},
   "outputs": [
    {
     "data": {
      "text/html": [
       "<div>\n",
       "<style scoped>\n",
       "    .dataframe tbody tr th:only-of-type {\n",
       "        vertical-align: middle;\n",
       "    }\n",
       "\n",
       "    .dataframe tbody tr th {\n",
       "        vertical-align: top;\n",
       "    }\n",
       "\n",
       "    .dataframe thead th {\n",
       "        text-align: right;\n",
       "    }\n",
       "</style>\n",
       "<table border=\"1\" class=\"dataframe\">\n",
       "  <thead>\n",
       "    <tr style=\"text-align: right;\">\n",
       "      <th></th>\n",
       "      <th>user_id</th>\n",
       "      <th>product_id</th>\n",
       "      <th>NumTimesCarted</th>\n",
       "      <th>NumTimesPurchased</th>\n",
       "      <th>NumTimesRemoved</th>\n",
       "      <th>NumTimesViewed</th>\n",
       "      <th>Purchase</th>\n",
       "      <th>price</th>\n",
       "      <th>user_session</th>\n",
       "      <th>category_id</th>\n",
       "    </tr>\n",
       "  </thead>\n",
       "  <tbody>\n",
       "    <tr>\n",
       "      <th>0</th>\n",
       "      <td>465496</td>\n",
       "      <td>5769989</td>\n",
       "      <td>0</td>\n",
       "      <td>0</td>\n",
       "      <td>0</td>\n",
       "      <td>1</td>\n",
       "      <td>0</td>\n",
       "      <td>10.00</td>\n",
       "      <td>1</td>\n",
       "      <td>1487580008447738866</td>\n",
       "    </tr>\n",
       "    <tr>\n",
       "      <th>1</th>\n",
       "      <td>465496</td>\n",
       "      <td>5865524</td>\n",
       "      <td>0</td>\n",
       "      <td>0</td>\n",
       "      <td>0</td>\n",
       "      <td>1</td>\n",
       "      <td>0</td>\n",
       "      <td>10.00</td>\n",
       "      <td>1</td>\n",
       "      <td>1487580008447738866</td>\n",
       "    </tr>\n",
       "    <tr>\n",
       "      <th>2</th>\n",
       "      <td>465496</td>\n",
       "      <td>5865526</td>\n",
       "      <td>0</td>\n",
       "      <td>0</td>\n",
       "      <td>0</td>\n",
       "      <td>1</td>\n",
       "      <td>0</td>\n",
       "      <td>10.00</td>\n",
       "      <td>1</td>\n",
       "      <td>1487580008447738866</td>\n",
       "    </tr>\n",
       "    <tr>\n",
       "      <th>3</th>\n",
       "      <td>1120748</td>\n",
       "      <td>5240</td>\n",
       "      <td>0</td>\n",
       "      <td>0</td>\n",
       "      <td>0</td>\n",
       "      <td>1</td>\n",
       "      <td>0</td>\n",
       "      <td>4.05</td>\n",
       "      <td>1</td>\n",
       "      <td>1487580009202712597</td>\n",
       "    </tr>\n",
       "    <tr>\n",
       "      <th>4</th>\n",
       "      <td>1180452</td>\n",
       "      <td>5881337</td>\n",
       "      <td>0</td>\n",
       "      <td>0</td>\n",
       "      <td>0</td>\n",
       "      <td>1</td>\n",
       "      <td>0</td>\n",
       "      <td>25.40</td>\n",
       "      <td>1</td>\n",
       "      <td>1487580012096782476</td>\n",
       "    </tr>\n",
       "  </tbody>\n",
       "</table>\n",
       "</div>"
      ],
      "text/plain": [
       "   user_id  product_id  NumTimesCarted  NumTimesPurchased  NumTimesRemoved  \\\n",
       "0   465496     5769989               0                  0                0   \n",
       "1   465496     5865524               0                  0                0   \n",
       "2   465496     5865526               0                  0                0   \n",
       "3  1120748        5240               0                  0                0   \n",
       "4  1180452     5881337               0                  0                0   \n",
       "\n",
       "   NumTimesViewed  Purchase  price  user_session          category_id  \n",
       "0               1         0  10.00             1  1487580008447738866  \n",
       "1               1         0  10.00             1  1487580008447738866  \n",
       "2               1         0  10.00             1  1487580008447738866  \n",
       "3               1         0   4.05             1  1487580009202712597  \n",
       "4               1         0  25.40             1  1487580012096782476  "
      ]
     },
     "execution_count": 85,
     "metadata": {},
     "output_type": "execute_result"
    }
   ],
   "source": [
    "data.head()"
   ]
  },
  {
   "cell_type": "code",
   "execution_count": 97,
   "metadata": {},
   "outputs": [
    {
     "data": {
      "text/plain": [
       "Text(0.5, 1.0, 'Kaggle Cosmetics Data Filter by Price')"
      ]
     },
     "execution_count": 97,
     "metadata": {},
     "output_type": "execute_result"
    },
    {
     "data": {
      "image/png": "[encoded data removed]",
      "text/plain": [
       "<Figure size 432x288 with 1 Axes>"
      ]
     },
     "metadata": {
      "needs_background": "light"
     },
     "output_type": "display_data"
    }
   ],
   "source": [
    "plt.scatter(data[(data.Purchase==1) & (data.price >= 11) & (data.price<=24)].price_category, data[(data.Purchase==1) &  (data.price >= 11) & (data.price<=24)].user_session)\n",
    "plt.xlabel('price category')\n",
    "plt.ylabel('number of sessions')\n",
    "plt.title('Kaggle Cosmetics Data Filter by Price')"
   ]
  },
  {
   "cell_type": "code",
   "execution_count": 98,
   "metadata": {},
   "outputs": [
    {
     "data": {
      "text/plain": [
       "user_id              38505\n",
       "product_id            4366\n",
       "NumTimesCarted          32\n",
       "NumTimesPurchased       10\n",
       "NumTimesRemoved         22\n",
       "NumTimesViewed          53\n",
       "Purchase                 1\n",
       "price                 3640\n",
       "user_session            41\n",
       "category_id            252\n",
       "price_category           1\n",
       "dtype: int64"
      ]
     },
     "execution_count": 98,
     "metadata": {},
     "output_type": "execute_result"
    }
   ],
   "source": [
    "data[(data.Purchase==1) & (data.price >= 11) & (data.price<=24)].nunique()"
   ]
  },
  {
   "cell_type": "code",
   "execution_count": 64,
   "metadata": {},
   "outputs": [
    {
     "name": "stderr",
     "output_type": "stream",
     "text": [
      "/home/ec2-user/anaconda3/envs/tensorflow2_p36/lib/python3.6/site-packages/numpy/lib/histograms.py:839: RuntimeWarning: invalid value encountered in greater_equal\n",
      "  keep = (tmp_a >= first_edge)\n",
      "/home/ec2-user/anaconda3/envs/tensorflow2_p36/lib/python3.6/site-packages/numpy/lib/histograms.py:840: RuntimeWarning: invalid value encountered in less_equal\n",
      "  keep &= (tmp_a <= last_edge)\n"
     ]
    },
    {
     "data": {
      "text/plain": [
       "(array([1.23361e+05, 1.46570e+04, 2.08600e+03, 4.64000e+02, 9.60000e+01,\n",
       "        4.90000e+01, 5.00000e+00, 1.00000e+00, 8.00000e+00, 9.00000e+00]),\n",
       " array([  0.66 ,  23.914,  47.168,  70.422,  93.676, 116.93 , 140.184,\n",
       "        163.438, 186.692, 209.946, 233.2  ]),\n",
       " <BarContainer object of 10 artists>)"
      ]
     },
     "execution_count": 64,
     "metadata": {},
     "output_type": "execute_result"
    },
    {
     "data": {
      "image/png": "[encoded data removed]",
      "text/plain": [
       "<Figure size 432x288 with 1 Axes>"
      ]
     },
     "metadata": {
      "needs_background": "light"
     },
     "output_type": "display_data"
    }
   ],
   "source": [
    "plt.hist(hits.price)"
   ]
  },
  {
   "cell_type": "code",
   "execution_count": 23,
   "metadata": {
    "colab": {
     "base_uri": "https://localhost:8080/"
    },
    "id": "rwbxllg6-ZG_",
    "outputId": "bd75aaca-6b20-47a7-c7d4-9949063b3e5e"
   },
   "outputs": [
    {
     "name": "stdout",
     "output_type": "stream",
     "text": [
      "Num users: 1637770, num_items 53903.\n",
      "Num values: 10111571\n"
     ]
    }
   ],
   "source": [
    "dataset_k, train, test, int_k = random_split(data, 'user_id', 'product_id', 'Purchase')"
   ]
  },
  {
   "cell_type": "code",
   "execution_count": null,
   "metadata": {},
   "outputs": [],
   "source": [
    "calc_sparsity(data, 'user_id', 'product_id', 'Purchase')"
   ]
  },
  {
   "cell_type": "code",
   "execution_count": null,
   "metadata": {
    "colab": {
     "background_save": true,
     "base_uri": "https://localhost:8080/"
    },
    "id": "2FGaACB2_Pb1",
    "outputId": "a6a3ad96-c18c-4fd4-d15d-64b657771ac5"
   },
   "outputs": [
    {
     "name": "stdout",
     "output_type": "stream",
     "text": [
      "32\n",
      "CPU times: user 3min 12s, sys: 188 ms, total: 3min 12s\n",
      "Wall time: 1min 15s\n"
     ]
    }
   ],
   "source": [
    "for n in [32, 64, 192]: \n",
    "    print(n)\n",
    "    model_c = model_fit_eval('warp', train, test, n, 5)"
   ]
  },
  {
   "cell_type": "code",
   "execution_count": 16,
   "metadata": {},
   "outputs": [
    {
     "name": "stdout",
     "output_type": "stream",
     "text": [
      "CPU times: user 37 s, sys: 81.9 ms, total: 37 s\n",
      "Wall time: 14.4 s\n",
      "Collaborative filtering test AUC: 0.9077277\n",
      "Collaborative filtering test precision: 0.043549385\n",
      "Collaborative filtering test recall: 0.1560249026255479\n"
     ]
    }
   ],
   "source": [
    " model_c = model_fit_eval('warp-kos', train, test, 128, k=7, n=20)"
   ]
  },
  {
   "cell_type": "markdown",
   "metadata": {},
   "source": [
    "## Kaggle Cosmetics + Groupby"
   ]
  },
  {
   "cell_type": "code",
   "execution_count": 48,
   "metadata": {},
   "outputs": [
    {
     "data": {
      "text/html": [
       "<div>\n",
       "<style scoped>\n",
       "    .dataframe tbody tr th:only-of-type {\n",
       "        vertical-align: middle;\n",
       "    }\n",
       "\n",
       "    .dataframe tbody tr th {\n",
       "        vertical-align: top;\n",
       "    }\n",
       "\n",
       "    .dataframe thead th {\n",
       "        text-align: right;\n",
       "    }\n",
       "</style>\n",
       "<table border=\"1\" class=\"dataframe\">\n",
       "  <thead>\n",
       "    <tr style=\"text-align: right;\">\n",
       "      <th>event_type</th>\n",
       "      <th>user_id</th>\n",
       "      <th>product_id</th>\n",
       "      <th>NumTimesCarted</th>\n",
       "      <th>NumTimesPurchased</th>\n",
       "      <th>NumTimesRemoved</th>\n",
       "      <th>NumTimesViewed</th>\n",
       "      <th>Purchase</th>\n",
       "    </tr>\n",
       "  </thead>\n",
       "  <tbody>\n",
       "    <tr>\n",
       "      <th>0</th>\n",
       "      <td>9794320</td>\n",
       "      <td>5706475</td>\n",
       "      <td>0</td>\n",
       "      <td>0</td>\n",
       "      <td>0</td>\n",
       "      <td>1</td>\n",
       "      <td>0</td>\n",
       "    </tr>\n",
       "    <tr>\n",
       "      <th>1</th>\n",
       "      <td>10280338</td>\n",
       "      <td>5876344</td>\n",
       "      <td>0</td>\n",
       "      <td>0</td>\n",
       "      <td>0</td>\n",
       "      <td>1</td>\n",
       "      <td>0</td>\n",
       "    </tr>\n",
       "    <tr>\n",
       "      <th>2</th>\n",
       "      <td>14297993</td>\n",
       "      <td>5804820</td>\n",
       "      <td>0</td>\n",
       "      <td>0</td>\n",
       "      <td>0</td>\n",
       "      <td>1</td>\n",
       "      <td>0</td>\n",
       "    </tr>\n",
       "    <tr>\n",
       "      <th>3</th>\n",
       "      <td>14297993</td>\n",
       "      <td>5882654</td>\n",
       "      <td>0</td>\n",
       "      <td>0</td>\n",
       "      <td>0</td>\n",
       "      <td>1</td>\n",
       "      <td>0</td>\n",
       "    </tr>\n",
       "    <tr>\n",
       "      <th>4</th>\n",
       "      <td>20554973</td>\n",
       "      <td>5706479</td>\n",
       "      <td>0</td>\n",
       "      <td>0</td>\n",
       "      <td>0</td>\n",
       "      <td>2</td>\n",
       "      <td>0</td>\n",
       "    </tr>\n",
       "    <tr>\n",
       "      <th>...</th>\n",
       "      <td>...</td>\n",
       "      <td>...</td>\n",
       "      <td>...</td>\n",
       "      <td>...</td>\n",
       "      <td>...</td>\n",
       "      <td>...</td>\n",
       "      <td>...</td>\n",
       "    </tr>\n",
       "    <tr>\n",
       "      <th>167790</th>\n",
       "      <td>622083330</td>\n",
       "      <td>5924482</td>\n",
       "      <td>0</td>\n",
       "      <td>0</td>\n",
       "      <td>0</td>\n",
       "      <td>1</td>\n",
       "      <td>0</td>\n",
       "    </tr>\n",
       "    <tr>\n",
       "      <th>167791</th>\n",
       "      <td>622083780</td>\n",
       "      <td>5846096</td>\n",
       "      <td>0</td>\n",
       "      <td>0</td>\n",
       "      <td>0</td>\n",
       "      <td>1</td>\n",
       "      <td>0</td>\n",
       "    </tr>\n",
       "    <tr>\n",
       "      <th>167792</th>\n",
       "      <td>622086358</td>\n",
       "      <td>5908170</td>\n",
       "      <td>0</td>\n",
       "      <td>0</td>\n",
       "      <td>0</td>\n",
       "      <td>1</td>\n",
       "      <td>0</td>\n",
       "    </tr>\n",
       "    <tr>\n",
       "      <th>167793</th>\n",
       "      <td>622086382</td>\n",
       "      <td>5804820</td>\n",
       "      <td>0</td>\n",
       "      <td>0</td>\n",
       "      <td>0</td>\n",
       "      <td>1</td>\n",
       "      <td>0</td>\n",
       "    </tr>\n",
       "    <tr>\n",
       "      <th>167794</th>\n",
       "      <td>622086800</td>\n",
       "      <td>5765359</td>\n",
       "      <td>0</td>\n",
       "      <td>0</td>\n",
       "      <td>0</td>\n",
       "      <td>1</td>\n",
       "      <td>0</td>\n",
       "    </tr>\n",
       "  </tbody>\n",
       "</table>\n",
       "<p>167795 rows × 7 columns</p>\n",
       "</div>"
      ],
      "text/plain": [
       "event_type    user_id  product_id  NumTimesCarted  NumTimesPurchased  \\\n",
       "0             9794320     5706475               0                  0   \n",
       "1            10280338     5876344               0                  0   \n",
       "2            14297993     5804820               0                  0   \n",
       "3            14297993     5882654               0                  0   \n",
       "4            20554973     5706479               0                  0   \n",
       "...               ...         ...             ...                ...   \n",
       "167790      622083330     5924482               0                  0   \n",
       "167791      622083780     5846096               0                  0   \n",
       "167792      622086358     5908170               0                  0   \n",
       "167793      622086382     5804820               0                  0   \n",
       "167794      622086800     5765359               0                  0   \n",
       "\n",
       "event_type  NumTimesRemoved  NumTimesViewed  Purchase  \n",
       "0                         0               1         0  \n",
       "1                         0               1         0  \n",
       "2                         0               1         0  \n",
       "3                         0               1         0  \n",
       "4                         0               2         0  \n",
       "...                     ...             ...       ...  \n",
       "167790                    0               1         0  \n",
       "167791                    0               1         0  \n",
       "167792                    0               1         0  \n",
       "167793                    0               1         0  \n",
       "167794                    0               1         0  \n",
       "\n",
       "[167795 rows x 7 columns]"
      ]
     },
     "execution_count": 48,
     "metadata": {},
     "output_type": "execute_result"
    }
   ],
   "source": [
    "data"
   ]
  },
  {
   "cell_type": "code",
   "execution_count": 56,
   "metadata": {},
   "outputs": [],
   "source": [
    "num_purchase2 = num_purchase.rename(columns={'customerVisitorId':\"user_id\", \"ID\":\"product_id\"})"
   ]
  },
  {
   "cell_type": "code",
   "execution_count": 57,
   "metadata": {},
   "outputs": [
    {
     "data": {
      "text/html": [
       "<div>\n",
       "<style scoped>\n",
       "    .dataframe tbody tr th:only-of-type {\n",
       "        vertical-align: middle;\n",
       "    }\n",
       "\n",
       "    .dataframe tbody tr th {\n",
       "        vertical-align: top;\n",
       "    }\n",
       "\n",
       "    .dataframe thead th {\n",
       "        text-align: right;\n",
       "    }\n",
       "</style>\n",
       "<table border=\"1\" class=\"dataframe\">\n",
       "  <thead>\n",
       "    <tr style=\"text-align: right;\">\n",
       "      <th></th>\n",
       "      <th>user_id</th>\n",
       "      <th>product_id</th>\n",
       "      <th>numPurchase</th>\n",
       "      <th>price</th>\n",
       "      <th>Purchase</th>\n",
       "    </tr>\n",
       "  </thead>\n",
       "  <tbody>\n",
       "    <tr>\n",
       "      <th>0</th>\n",
       "      <td>cjo06cah000013ea3jqwotb8g</td>\n",
       "      <td>AAM013</td>\n",
       "      <td>0</td>\n",
       "      <td>NaN</td>\n",
       "      <td>0</td>\n",
       "    </tr>\n",
       "    <tr>\n",
       "      <th>1</th>\n",
       "      <td>cjo06cah000013ea3jqwotb8g</td>\n",
       "      <td>AAM016</td>\n",
       "      <td>0</td>\n",
       "      <td>NaN</td>\n",
       "      <td>0</td>\n",
       "    </tr>\n",
       "    <tr>\n",
       "      <th>2</th>\n",
       "      <td>cjo06cah000013ea3jqwotb8g</td>\n",
       "      <td>AAM019</td>\n",
       "      <td>0</td>\n",
       "      <td>NaN</td>\n",
       "      <td>0</td>\n",
       "    </tr>\n",
       "    <tr>\n",
       "      <th>3</th>\n",
       "      <td>cjo06cah000013ea3jqwotb8g</td>\n",
       "      <td>ARG010</td>\n",
       "      <td>0</td>\n",
       "      <td>NaN</td>\n",
       "      <td>0</td>\n",
       "    </tr>\n",
       "    <tr>\n",
       "      <th>4</th>\n",
       "      <td>cjo06cah000013ea3jqwotb8g</td>\n",
       "      <td>DB088</td>\n",
       "      <td>0</td>\n",
       "      <td>NaN</td>\n",
       "      <td>0</td>\n",
       "    </tr>\n",
       "    <tr>\n",
       "      <th>...</th>\n",
       "      <td>...</td>\n",
       "      <td>...</td>\n",
       "      <td>...</td>\n",
       "      <td>...</td>\n",
       "      <td>...</td>\n",
       "    </tr>\n",
       "    <tr>\n",
       "      <th>997359</th>\n",
       "      <td>cki8fds6p000139dnzl8n11ln</td>\n",
       "      <td>SW106</td>\n",
       "      <td>5</td>\n",
       "      <td>9.76</td>\n",
       "      <td>1</td>\n",
       "    </tr>\n",
       "    <tr>\n",
       "      <th>997360</th>\n",
       "      <td>cki8h8bl300013bdvycc084d4</td>\n",
       "      <td>SWD015</td>\n",
       "      <td>0</td>\n",
       "      <td>12.49</td>\n",
       "      <td>0</td>\n",
       "    </tr>\n",
       "    <tr>\n",
       "      <th>997361</th>\n",
       "      <td>cki8i50go000139dbjuozjlpv</td>\n",
       "      <td>SWA051</td>\n",
       "      <td>3</td>\n",
       "      <td>14.79</td>\n",
       "      <td>1</td>\n",
       "    </tr>\n",
       "    <tr>\n",
       "      <th>997362</th>\n",
       "      <td>cki8pfl1y000139ebdeezn6pn</td>\n",
       "      <td>SWA051</td>\n",
       "      <td>3</td>\n",
       "      <td>14.79</td>\n",
       "      <td>1</td>\n",
       "    </tr>\n",
       "    <tr>\n",
       "      <th>997363</th>\n",
       "      <td>cki8qpz0f000139dbxyagqagm</td>\n",
       "      <td>SW1113</td>\n",
       "      <td>21</td>\n",
       "      <td>2.54</td>\n",
       "      <td>1</td>\n",
       "    </tr>\n",
       "  </tbody>\n",
       "</table>\n",
       "<p>997364 rows × 5 columns</p>\n",
       "</div>"
      ],
      "text/plain": [
       "                          user_id product_id  numPurchase  price  Purchase\n",
       "0       cjo06cah000013ea3jqwotb8g     AAM013            0    NaN         0\n",
       "1       cjo06cah000013ea3jqwotb8g     AAM016            0    NaN         0\n",
       "2       cjo06cah000013ea3jqwotb8g     AAM019            0    NaN         0\n",
       "3       cjo06cah000013ea3jqwotb8g     ARG010            0    NaN         0\n",
       "4       cjo06cah000013ea3jqwotb8g      DB088            0    NaN         0\n",
       "...                           ...        ...          ...    ...       ...\n",
       "997359  cki8fds6p000139dnzl8n11ln      SW106            5   9.76         1\n",
       "997360  cki8h8bl300013bdvycc084d4     SWD015            0  12.49         0\n",
       "997361  cki8i50go000139dbjuozjlpv     SWA051            3  14.79         1\n",
       "997362  cki8pfl1y000139ebdeezn6pn     SWA051            3  14.79         1\n",
       "997363  cki8qpz0f000139dbxyagqagm     SW1113           21   2.54         1\n",
       "\n",
       "[997364 rows x 5 columns]"
      ]
     },
     "execution_count": 57,
     "metadata": {},
     "output_type": "execute_result"
    }
   ],
   "source": [
    "num_purchase2"
   ]
  },
  {
   "cell_type": "code",
   "execution_count": 58,
   "metadata": {},
   "outputs": [],
   "source": [
    "combined = pd.concat([data[['user_id', 'product_id', 'Purchase']], num_purchase2[['user_id', 'product_id', 'Purchase']]], axis=0)"
   ]
  },
  {
   "cell_type": "code",
   "execution_count": 59,
   "metadata": {},
   "outputs": [
    {
     "data": {
      "text/html": [
       "<div>\n",
       "<style scoped>\n",
       "    .dataframe tbody tr th:only-of-type {\n",
       "        vertical-align: middle;\n",
       "    }\n",
       "\n",
       "    .dataframe tbody tr th {\n",
       "        vertical-align: top;\n",
       "    }\n",
       "\n",
       "    .dataframe thead th {\n",
       "        text-align: right;\n",
       "    }\n",
       "</style>\n",
       "<table border=\"1\" class=\"dataframe\">\n",
       "  <thead>\n",
       "    <tr style=\"text-align: right;\">\n",
       "      <th>event_type</th>\n",
       "      <th>user_id</th>\n",
       "      <th>product_id</th>\n",
       "      <th>Purchase</th>\n",
       "    </tr>\n",
       "  </thead>\n",
       "  <tbody>\n",
       "    <tr>\n",
       "      <th>0</th>\n",
       "      <td>9794320</td>\n",
       "      <td>5706475</td>\n",
       "      <td>0</td>\n",
       "    </tr>\n",
       "    <tr>\n",
       "      <th>1</th>\n",
       "      <td>10280338</td>\n",
       "      <td>5876344</td>\n",
       "      <td>0</td>\n",
       "    </tr>\n",
       "    <tr>\n",
       "      <th>2</th>\n",
       "      <td>14297993</td>\n",
       "      <td>5804820</td>\n",
       "      <td>0</td>\n",
       "    </tr>\n",
       "    <tr>\n",
       "      <th>3</th>\n",
       "      <td>14297993</td>\n",
       "      <td>5882654</td>\n",
       "      <td>0</td>\n",
       "    </tr>\n",
       "    <tr>\n",
       "      <th>4</th>\n",
       "      <td>20554973</td>\n",
       "      <td>5706479</td>\n",
       "      <td>0</td>\n",
       "    </tr>\n",
       "    <tr>\n",
       "      <th>...</th>\n",
       "      <td>...</td>\n",
       "      <td>...</td>\n",
       "      <td>...</td>\n",
       "    </tr>\n",
       "    <tr>\n",
       "      <th>997359</th>\n",
       "      <td>cki8fds6p000139dnzl8n11ln</td>\n",
       "      <td>SW106</td>\n",
       "      <td>1</td>\n",
       "    </tr>\n",
       "    <tr>\n",
       "      <th>997360</th>\n",
       "      <td>cki8h8bl300013bdvycc084d4</td>\n",
       "      <td>SWD015</td>\n",
       "      <td>0</td>\n",
       "    </tr>\n",
       "    <tr>\n",
       "      <th>997361</th>\n",
       "      <td>cki8i50go000139dbjuozjlpv</td>\n",
       "      <td>SWA051</td>\n",
       "      <td>1</td>\n",
       "    </tr>\n",
       "    <tr>\n",
       "      <th>997362</th>\n",
       "      <td>cki8pfl1y000139ebdeezn6pn</td>\n",
       "      <td>SWA051</td>\n",
       "      <td>1</td>\n",
       "    </tr>\n",
       "    <tr>\n",
       "      <th>997363</th>\n",
       "      <td>cki8qpz0f000139dbxyagqagm</td>\n",
       "      <td>SW1113</td>\n",
       "      <td>1</td>\n",
       "    </tr>\n",
       "  </tbody>\n",
       "</table>\n",
       "<p>1165159 rows × 3 columns</p>\n",
       "</div>"
      ],
      "text/plain": [
       "event_type                    user_id product_id  Purchase\n",
       "0                             9794320    5706475         0\n",
       "1                            10280338    5876344         0\n",
       "2                            14297993    5804820         0\n",
       "3                            14297993    5882654         0\n",
       "4                            20554973    5706479         0\n",
       "...                               ...        ...       ...\n",
       "997359      cki8fds6p000139dnzl8n11ln      SW106         1\n",
       "997360      cki8h8bl300013bdvycc084d4     SWD015         0\n",
       "997361      cki8i50go000139dbjuozjlpv     SWA051         1\n",
       "997362      cki8pfl1y000139ebdeezn6pn     SWA051         1\n",
       "997363      cki8qpz0f000139dbxyagqagm     SW1113         1\n",
       "\n",
       "[1165159 rows x 3 columns]"
      ]
     },
     "execution_count": 59,
     "metadata": {},
     "output_type": "execute_result"
    }
   ],
   "source": [
    "combined"
   ]
  },
  {
   "cell_type": "code",
   "execution_count": 99,
   "metadata": {},
   "outputs": [
    {
     "name": "stdout",
     "output_type": "stream",
     "text": [
      "Num users: 151533, num_items 17776.\n",
      "Num values: 1165159\n"
     ]
    }
   ],
   "source": [
    "train_comb, test_comb = random_split(combined, 'user_id', 'product_id', 'Purchase')"
   ]
  },
  {
   "cell_type": "code",
   "execution_count": 61,
   "metadata": {},
   "outputs": [
    {
     "name": "stdout",
     "output_type": "stream",
     "text": [
      "CPU times: user 31 s, sys: 49.7 ms, total: 31 s\n",
      "Wall time: 11.4 s\n",
      "Collaborative filtering test AUC: 0.94967175\n",
      "Collaborative filtering test precision: 0.20758086\n",
      "Collaborative filtering test recall: 0.31428044888114814\n"
     ]
    }
   ],
   "source": [
    " model_comb = model_fit_eval('warp', train_comb, test_comb, 128 )"
   ]
  },
  {
   "cell_type": "markdown",
   "metadata": {},
   "source": [
    "## Benchmark other data"
   ]
  },
  {
   "cell_type": "code",
   "execution_count": 3,
   "metadata": {},
   "outputs": [],
   "source": [
    "from lightfm.datasets import fetch_movielens\n",
    "\n",
    "data = fetch_movielens(min_rating=5.0)"
   ]
  },
  {
   "cell_type": "code",
   "execution_count": 11,
   "metadata": {},
   "outputs": [
    {
     "name": "stdout",
     "output_type": "stream",
     "text": [
      "CPU times: user 987 ms, sys: 1.46 ms, total: 989 ms\n",
      "Wall time: 337 ms\n"
     ]
    },
    {
     "data": {
      "text/plain": [
       "<lightfm.lightfm.LightFM at 0x7f2a6582ae80>"
      ]
     },
     "execution_count": 11,
     "metadata": {},
     "output_type": "execute_result"
    }
   ],
   "source": [
    "model = LightFM(loss='warp', no_components=192, item_alpha=1e-6, random_state=2)\n",
    "%time model.fit(data['train'], epochs=10, num_threads=3)"
   ]
  },
  {
   "cell_type": "code",
   "execution_count": 12,
   "metadata": {},
   "outputs": [
    {
     "name": "stdout",
     "output_type": "stream",
     "text": [
      "Collaborative filtering test AUC: 0.91579705\n",
      "Collaborative filtering test precision: 0.073447816\n",
      "Collaborative filtering test recall: 0.13724497284602966\n"
     ]
    }
   ],
   "source": [
    "  test_auc = auc_score(model, data['test'], train_interactions=data['train'], num_threads=3).mean()\n",
    "  print('Collaborative filtering test AUC: %s' % test_auc)\n",
    "  prec = precision_at_k(model, data['test'], train_interactions=data['train'], num_threads=3, k=5).mean()\n",
    "  print('Collaborative filtering test precision: %s' % prec)\n",
    "  recal = recall_at_k(model, data['test'], train_interactions=data['train'], num_threads=3, k=5).mean()\n",
    "  print('Collaborative filtering test recall: %s' % recal)"
   ]
  }
 ],
 "metadata": {
  "accelerator": "GPU",
  "colab": {
   "collapsed_sections": [],
   "machine_shape": "hm",
   "name": "Groupby - Recommendation.ipynb",
   "provenance": [],
   "toc_visible": true
  },
  "kernelspec": {
   "display_name": "Python 3",
   "language": "python",
   "name": "python3"
  },
  "language_info": {
   "codemirror_mode": {
    "name": "ipython",
    "version": 3
   },
   "file_extension": ".py",
   "mimetype": "text/x-python",
   "name": "python",
   "nbconvert_exporter": "python",
   "pygments_lexer": "ipython3",
   "version": "3.6.10"
  },
  "widgets": {
   "application/vnd.jupyter.widget-state+json": {
    "1312c30ed5864aaca1944d4141b0db75": {
     "model_module": "@jupyter-widgets/base",
     "model_name": "LayoutModel",
     "state": {
      "_model_module": "@jupyter-widgets/base",
      "_model_module_version": "1.2.0",
      "_model_name": "LayoutModel",
      "_view_count": null,
      "_view_module": "@jupyter-widgets/base",
      "_view_module_version": "1.2.0",
      "_view_name": "LayoutView",
      "align_content": null,
      "align_items": null,
      "align_self": null,
      "border": null,
      "bottom": null,
      "display": null,
      "flex": null,
      "flex_flow": null,
      "grid_area": null,
      "grid_auto_columns": null,
      "grid_auto_flow": null,
      "grid_auto_rows": null,
      "grid_column": null,
      "grid_gap": null,
      "grid_row": null,
      "grid_template_areas": null,
      "grid_template_columns": null,
      "grid_template_rows": null,
      "height": null,
      "justify_content": null,
      "justify_items": null,
      "left": null,
      "margin": null,
      "max_height": null,
      "max_width": null,
      "min_height": null,
      "min_width": null,
      "object_fit": null,
      "object_position": null,
      "order": null,
      "overflow": null,
      "overflow_x": null,
      "overflow_y": null,
      "padding": null,
      "right": null,
      "top": null,
      "visibility": null,
      "width": null
     }
    },
    "2665cb8f053b4095b56af209565206cc": {
     "model_module": "@jupyter-widgets/base",
     "model_name": "LayoutModel",
     "state": {
      "_model_module": "@jupyter-widgets/base",
      "_model_module_version": "1.2.0",
      "_model_name": "LayoutModel",
      "_view_count": null,
      "_view_module": "@jupyter-widgets/base",
      "_view_module_version": "1.2.0",
      "_view_name": "LayoutView",
      "align_content": null,
      "align_items": null,
      "align_self": null,
      "border": null,
      "bottom": null,
      "display": null,
      "flex": null,
      "flex_flow": null,
      "grid_area": null,
      "grid_auto_columns": null,
      "grid_auto_flow": null,
      "grid_auto_rows": null,
      "grid_column": null,
      "grid_gap": null,
      "grid_row": null,
      "grid_template_areas": null,
      "grid_template_columns": null,
      "grid_template_rows": null,
      "height": null,
      "justify_content": null,
      "justify_items": null,
      "left": null,
      "margin": null,
      "max_height": null,
      "max_width": null,
      "min_height": null,
      "min_width": null,
      "object_fit": null,
      "object_position": null,
      "order": null,
      "overflow": null,
      "overflow_x": null,
      "overflow_y": null,
      "padding": null,
      "right": null,
      "top": null,
      "visibility": null,
      "width": null
     }
    },
    "337eb8ba003743a695ba6446c95d8fc8": {
     "model_module": "@jupyter-widgets/controls",
     "model_name": "DescriptionStyleModel",
     "state": {
      "_model_module": "@jupyter-widgets/controls",
      "_model_module_version": "1.5.0",
      "_model_name": "DescriptionStyleModel",
      "_view_count": null,
      "_view_module": "@jupyter-widgets/base",
      "_view_module_version": "1.2.0",
      "_view_name": "StyleView",
      "description_width": ""
     }
    },
    "618db2266cf64af8acf0eff931ece47b": {
     "model_module": "@jupyter-widgets/controls",
     "model_name": "ProgressStyleModel",
     "state": {
      "_model_module": "@jupyter-widgets/controls",
      "_model_module_version": "1.5.0",
      "_model_name": "ProgressStyleModel",
      "_view_count": null,
      "_view_module": "@jupyter-widgets/base",
      "_view_module_version": "1.2.0",
      "_view_name": "StyleView",
      "bar_color": null,
      "description_width": "initial"
     }
    },
    "6ec87fdb66ea43a0a34dd5fc4224a861": {
     "model_module": "@jupyter-widgets/controls",
     "model_name": "HTMLModel",
     "state": {
      "_dom_classes": [],
      "_model_module": "@jupyter-widgets/controls",
      "_model_module_version": "1.5.0",
      "_model_name": "HTMLModel",
      "_view_count": null,
      "_view_module": "@jupyter-widgets/controls",
      "_view_module_version": "1.5.0",
      "_view_name": "HTMLView",
      "description": "",
      "description_tooltip": null,
      "layout": "IPY_MODEL_2665cb8f053b4095b56af209565206cc",
      "placeholder": "​",
      "style": "IPY_MODEL_337eb8ba003743a695ba6446c95d8fc8",
      "value": " 100/100 [07:53&lt;00:00,  4.73s/it]"
     }
    },
    "7d7201afc99c4b56b4ae85cea7db6e8b": {
     "model_module": "@jupyter-widgets/controls",
     "model_name": "HBoxModel",
     "state": {
      "_dom_classes": [],
      "_model_module": "@jupyter-widgets/controls",
      "_model_module_version": "1.5.0",
      "_model_name": "HBoxModel",
      "_view_count": null,
      "_view_module": "@jupyter-widgets/controls",
      "_view_module_version": "1.5.0",
      "_view_name": "HBoxView",
      "box_style": "",
      "children": [
       "IPY_MODEL_93b572d1795349ed99e60a46dc7669a3",
       "IPY_MODEL_6ec87fdb66ea43a0a34dd5fc4224a861"
      ],
      "layout": "IPY_MODEL_8785929d29d644eda9468a8f69ec0802"
     }
    },
    "8785929d29d644eda9468a8f69ec0802": {
     "model_module": "@jupyter-widgets/base",
     "model_name": "LayoutModel",
     "state": {
      "_model_module": "@jupyter-widgets/base",
      "_model_module_version": "1.2.0",
      "_model_name": "LayoutModel",
      "_view_count": null,
      "_view_module": "@jupyter-widgets/base",
      "_view_module_version": "1.2.0",
      "_view_name": "LayoutView",
      "align_content": null,
      "align_items": null,
      "align_self": null,
      "border": null,
      "bottom": null,
      "display": null,
      "flex": null,
      "flex_flow": null,
      "grid_area": null,
      "grid_auto_columns": null,
      "grid_auto_flow": null,
      "grid_auto_rows": null,
      "grid_column": null,
      "grid_gap": null,
      "grid_row": null,
      "grid_template_areas": null,
      "grid_template_columns": null,
      "grid_template_rows": null,
      "height": null,
      "justify_content": null,
      "justify_items": null,
      "left": null,
      "margin": null,
      "max_height": null,
      "max_width": null,
      "min_height": null,
      "min_width": null,
      "object_fit": null,
      "object_position": null,
      "order": null,
      "overflow": null,
      "overflow_x": null,
      "overflow_y": null,
      "padding": null,
      "right": null,
      "top": null,
      "visibility": null,
      "width": null
     }
    },
    "93b572d1795349ed99e60a46dc7669a3": {
     "model_module": "@jupyter-widgets/controls",
     "model_name": "FloatProgressModel",
     "state": {
      "_dom_classes": [],
      "_model_module": "@jupyter-widgets/controls",
      "_model_module_version": "1.5.0",
      "_model_name": "FloatProgressModel",
      "_view_count": null,
      "_view_module": "@jupyter-widgets/controls",
      "_view_module_version": "1.5.0",
      "_view_name": "ProgressView",
      "bar_style": "success",
      "description": "100%",
      "description_tooltip": null,
      "layout": "IPY_MODEL_1312c30ed5864aaca1944d4141b0db75",
      "max": 100,
      "min": 0,
      "orientation": "horizontal",
      "style": "IPY_MODEL_618db2266cf64af8acf0eff931ece47b",
      "value": 100
     }
    }
   }
  }
 },
 "nbformat": 4,
 "nbformat_minor": 5
}
